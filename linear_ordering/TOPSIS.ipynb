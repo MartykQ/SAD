{
 "cells": [
  {
   "cell_type": "markdown",
   "metadata": {},
   "source": [
    "# SAD\n",
    "# TOPSIS"
   ]
  },
  {
   "cell_type": "code",
   "execution_count": 66,
   "metadata": {},
   "outputs": [],
   "source": [
    "piwo = read.csv(file = \"piwo.csv\",  header = TRUE, sep = \";\", stringsAsFactors = FALSE)"
   ]
  },
  {
   "cell_type": "code",
   "execution_count": 67,
   "metadata": {},
   "outputs": [
    {
     "data": {
      "text/html": [
       "<table>\n",
       "<thead><tr><th scope=col>marka</th><th scope=col>zawartosc.alk</th><th scope=col>cena</th><th scope=col>dostepnosc</th><th scope=col>znajomosc</th><th scope=col>preferencje</th></tr></thead>\n",
       "<tbody>\n",
       "\t<tr><td>Zywiec    </td><td>5.6       </td><td>2.90      </td><td>1.90      </td><td>1.95      </td><td>2.65      </td></tr>\n",
       "\t<tr><td>Desperados</td><td>6.0       </td><td>4.15      </td><td>1.85      </td><td>1.77      </td><td>0.89      </td></tr>\n",
       "\t<tr><td>Kasztelan </td><td>5.7       </td><td>2.47      </td><td>1.80      </td><td>1.84      </td><td>2.17      </td></tr>\n",
       "\t<tr><td>Wojak     </td><td>5.0       </td><td>2.10      </td><td>0.45      </td><td>1.41      </td><td>0.38      </td></tr>\n",
       "\t<tr><td>Tyskie    </td><td>5.6       </td><td>2.53      </td><td>1.90      </td><td>1.93      </td><td>1.48      </td></tr>\n",
       "\t<tr><td>Heineken  </td><td>5.0       </td><td>3.64      </td><td>1.60      </td><td>1.90      </td><td>1.14      </td></tr>\n",
       "</tbody>\n",
       "</table>\n"
      ],
      "text/latex": [
       "\\begin{tabular}{r|llllll}\n",
       " marka & zawartosc.alk & cena & dostepnosc & znajomosc & preferencje\\\\\n",
       "\\hline\n",
       "\t Zywiec     & 5.6        & 2.90       & 1.90       & 1.95       & 2.65      \\\\\n",
       "\t Desperados & 6.0        & 4.15       & 1.85       & 1.77       & 0.89      \\\\\n",
       "\t Kasztelan  & 5.7        & 2.47       & 1.80       & 1.84       & 2.17      \\\\\n",
       "\t Wojak      & 5.0        & 2.10       & 0.45       & 1.41       & 0.38      \\\\\n",
       "\t Tyskie     & 5.6        & 2.53       & 1.90       & 1.93       & 1.48      \\\\\n",
       "\t Heineken   & 5.0        & 3.64       & 1.60       & 1.90       & 1.14      \\\\\n",
       "\\end{tabular}\n"
      ],
      "text/markdown": [
       "\n",
       "| marka | zawartosc.alk | cena | dostepnosc | znajomosc | preferencje |\n",
       "|---|---|---|---|---|---|\n",
       "| Zywiec     | 5.6        | 2.90       | 1.90       | 1.95       | 2.65       |\n",
       "| Desperados | 6.0        | 4.15       | 1.85       | 1.77       | 0.89       |\n",
       "| Kasztelan  | 5.7        | 2.47       | 1.80       | 1.84       | 2.17       |\n",
       "| Wojak      | 5.0        | 2.10       | 0.45       | 1.41       | 0.38       |\n",
       "| Tyskie     | 5.6        | 2.53       | 1.90       | 1.93       | 1.48       |\n",
       "| Heineken   | 5.0        | 3.64       | 1.60       | 1.90       | 1.14       |\n",
       "\n"
      ],
      "text/plain": [
       "  marka      zawartosc.alk cena dostepnosc znajomosc preferencje\n",
       "1 Zywiec     5.6           2.90 1.90       1.95      2.65       \n",
       "2 Desperados 6.0           4.15 1.85       1.77      0.89       \n",
       "3 Kasztelan  5.7           2.47 1.80       1.84      2.17       \n",
       "4 Wojak      5.0           2.10 0.45       1.41      0.38       \n",
       "5 Tyskie     5.6           2.53 1.90       1.93      1.48       \n",
       "6 Heineken   5.0           3.64 1.60       1.90      1.14       "
      ]
     },
     "metadata": {},
     "output_type": "display_data"
    }
   ],
   "source": [
    "head(piwo)"
   ]
  },
  {
   "cell_type": "markdown",
   "metadata": {},
   "source": [
    "<h3> Stymulanty </h3>"
   ]
  },
  {
   "cell_type": "code",
   "execution_count": 68,
   "metadata": {},
   "outputs": [
    {
     "data": {
      "text/html": [
       "<ol class=list-inline>\n",
       "\t<li>20</li>\n",
       "\t<li>6</li>\n",
       "</ol>\n"
      ],
      "text/latex": [
       "\\begin{enumerate*}\n",
       "\\item 20\n",
       "\\item 6\n",
       "\\end{enumerate*}\n"
      ],
      "text/markdown": [
       "1. 20\n",
       "2. 6\n",
       "\n",
       "\n"
      ],
      "text/plain": [
       "[1] 20  6"
      ]
     },
     "metadata": {},
     "output_type": "display_data"
    },
    {
     "data": {
      "text/html": [
       "<table>\n",
       "<thead><tr><th scope=col>marka</th><th scope=col>zawartosc.alk</th><th scope=col>cena</th><th scope=col>dostepnosc</th><th scope=col>znajomosc</th><th scope=col>preferencje</th></tr></thead>\n",
       "<tbody>\n",
       "\t<tr><td>Zywiec    </td><td>-5.6      </td><td>-2.90     </td><td>1.90      </td><td>1.95      </td><td>2.65      </td></tr>\n",
       "\t<tr><td>Desperados</td><td>-6.0      </td><td>-4.15     </td><td>1.85      </td><td>1.77      </td><td>0.89      </td></tr>\n",
       "\t<tr><td>Kasztelan </td><td>-5.7      </td><td>-2.47     </td><td>1.80      </td><td>1.84      </td><td>2.17      </td></tr>\n",
       "\t<tr><td>Wojak     </td><td>-5.0      </td><td>-2.10     </td><td>0.45      </td><td>1.41      </td><td>0.38      </td></tr>\n",
       "\t<tr><td>Tyskie    </td><td>-5.6      </td><td>-2.53     </td><td>1.90      </td><td>1.93      </td><td>1.48      </td></tr>\n",
       "\t<tr><td>Heineken  </td><td>-5.0      </td><td>-3.64     </td><td>1.60      </td><td>1.90      </td><td>1.14      </td></tr>\n",
       "</tbody>\n",
       "</table>\n"
      ],
      "text/latex": [
       "\\begin{tabular}{r|llllll}\n",
       " marka & zawartosc.alk & cena & dostepnosc & znajomosc & preferencje\\\\\n",
       "\\hline\n",
       "\t Zywiec     & -5.6       & -2.90      & 1.90       & 1.95       & 2.65      \\\\\n",
       "\t Desperados & -6.0       & -4.15      & 1.85       & 1.77       & 0.89      \\\\\n",
       "\t Kasztelan  & -5.7       & -2.47      & 1.80       & 1.84       & 2.17      \\\\\n",
       "\t Wojak      & -5.0       & -2.10      & 0.45       & 1.41       & 0.38      \\\\\n",
       "\t Tyskie     & -5.6       & -2.53      & 1.90       & 1.93       & 1.48      \\\\\n",
       "\t Heineken   & -5.0       & -3.64      & 1.60       & 1.90       & 1.14      \\\\\n",
       "\\end{tabular}\n"
      ],
      "text/markdown": [
       "\n",
       "| marka | zawartosc.alk | cena | dostepnosc | znajomosc | preferencje |\n",
       "|---|---|---|---|---|---|\n",
       "| Zywiec     | -5.6       | -2.90      | 1.90       | 1.95       | 2.65       |\n",
       "| Desperados | -6.0       | -4.15      | 1.85       | 1.77       | 0.89       |\n",
       "| Kasztelan  | -5.7       | -2.47      | 1.80       | 1.84       | 2.17       |\n",
       "| Wojak      | -5.0       | -2.10      | 0.45       | 1.41       | 0.38       |\n",
       "| Tyskie     | -5.6       | -2.53      | 1.90       | 1.93       | 1.48       |\n",
       "| Heineken   | -5.0       | -3.64      | 1.60       | 1.90       | 1.14       |\n",
       "\n"
      ],
      "text/plain": [
       "  marka      zawartosc.alk cena  dostepnosc znajomosc preferencje\n",
       "1 Zywiec     -5.6          -2.90 1.90       1.95      2.65       \n",
       "2 Desperados -6.0          -4.15 1.85       1.77      0.89       \n",
       "3 Kasztelan  -5.7          -2.47 1.80       1.84      2.17       \n",
       "4 Wojak      -5.0          -2.10 0.45       1.41      0.38       \n",
       "5 Tyskie     -5.6          -2.53 1.90       1.93      1.48       \n",
       "6 Heineken   -5.0          -3.64 1.60       1.90      1.14       "
      ]
     },
     "metadata": {},
     "output_type": "display_data"
    },
    {
     "data": {
      "text/html": [
       "<table>\n",
       "<thead><tr><th scope=col>marka</th><th scope=col>zawartosc.alk</th><th scope=col>cena</th><th scope=col>dostepnosc</th><th scope=col>znajomosc</th><th scope=col>preferencje</th></tr></thead>\n",
       "<tbody>\n",
       "\t<tr><td>Zywiec      </td><td>-5.6        </td><td>-2.90       </td><td>1.90        </td><td>1.95        </td><td>2.65        </td></tr>\n",
       "\t<tr><td>Desperados  </td><td>-6.0        </td><td>-4.15       </td><td>1.85        </td><td>1.77        </td><td>0.89        </td></tr>\n",
       "\t<tr><td>Kasztelan   </td><td>-5.7        </td><td>-2.47       </td><td>1.80        </td><td>1.84        </td><td>2.17        </td></tr>\n",
       "\t<tr><td>Wojak       </td><td>-5.0        </td><td>-2.10       </td><td>0.45        </td><td>1.41        </td><td>0.38        </td></tr>\n",
       "\t<tr><td>Tyskie      </td><td>-5.6        </td><td>-2.53       </td><td>1.90        </td><td>1.93        </td><td>1.48        </td></tr>\n",
       "\t<tr><td>Heineken    </td><td>-5.0        </td><td>-3.64       </td><td>1.60        </td><td>1.90        </td><td>1.14        </td></tr>\n",
       "\t<tr><td>Warka       </td><td>-5.7        </td><td>-2.59       </td><td>1.20        </td><td>1.92        </td><td>1.06        </td></tr>\n",
       "\t<tr><td>Łomża       </td><td>-6.0        </td><td>-2.60       </td><td>1.10        </td><td>1.66        </td><td>0.80        </td></tr>\n",
       "\t<tr><td>Lech        </td><td>-5.2        </td><td>-2.82       </td><td>1.80        </td><td>1.90        </td><td>1.04        </td></tr>\n",
       "\t<tr><td>Perła       </td><td>-6.0        </td><td>-2.56       </td><td>1.55        </td><td>1.79        </td><td>1.65        </td></tr>\n",
       "\t<tr><td>Specjal     </td><td>-6.0        </td><td>-2.36       </td><td>0.10        </td><td>0.84        </td><td>0.43        </td></tr>\n",
       "\t<tr><td>Żubr        </td><td>-6.0        </td><td>-2.49       </td><td>1.50        </td><td>1.84        </td><td>0.83        </td></tr>\n",
       "\t<tr><td>Redds       </td><td>-4.5        </td><td>-3.87       </td><td>1.40        </td><td>1.69        </td><td>0.98        </td></tr>\n",
       "\t<tr><td>Carlsberg   </td><td>-6.0        </td><td>-3.17       </td><td>1.85        </td><td>1.87        </td><td>0.82        </td></tr>\n",
       "\t<tr><td>Somersby    </td><td>-4.5        </td><td>-4.04       </td><td>1.30        </td><td>1.59        </td><td>1.00        </td></tr>\n",
       "\t<tr><td>Tatra_Pils  </td><td>-6.0        </td><td>-2.00       </td><td>1.45        </td><td>1.30        </td><td>0.55        </td></tr>\n",
       "\t<tr><td>Harnas      </td><td>-6.0        </td><td>-1.99       </td><td>1.65        </td><td>1.66        </td><td>1.02        </td></tr>\n",
       "\t<tr><td>Tatra_mocne </td><td>-7.0        </td><td>-2.62       </td><td>1.10        </td><td>1.44        </td><td>0.35        </td></tr>\n",
       "\t<tr><td>Okocim_mocne</td><td>-7.1        </td><td>-2.71       </td><td>1.30        </td><td>1.77        </td><td>0.76        </td></tr>\n",
       "\t<tr><td>Debowe_mocne</td><td>-7.0        </td><td>-2.89       </td><td>1.15        </td><td>1.44        </td><td>0.34        </td></tr>\n",
       "</tbody>\n",
       "</table>\n"
      ],
      "text/latex": [
       "\\begin{tabular}{r|llllll}\n",
       " marka & zawartosc.alk & cena & dostepnosc & znajomosc & preferencje\\\\\n",
       "\\hline\n",
       "\t Zywiec       & -5.6         & -2.90        & 1.90         & 1.95         & 2.65        \\\\\n",
       "\t Desperados   & -6.0         & -4.15        & 1.85         & 1.77         & 0.89        \\\\\n",
       "\t Kasztelan    & -5.7         & -2.47        & 1.80         & 1.84         & 2.17        \\\\\n",
       "\t Wojak        & -5.0         & -2.10        & 0.45         & 1.41         & 0.38        \\\\\n",
       "\t Tyskie       & -5.6         & -2.53        & 1.90         & 1.93         & 1.48        \\\\\n",
       "\t Heineken     & -5.0         & -3.64        & 1.60         & 1.90         & 1.14        \\\\\n",
       "\t Warka        & -5.7         & -2.59        & 1.20         & 1.92         & 1.06        \\\\\n",
       "\t Łomża        & -6.0         & -2.60        & 1.10         & 1.66         & 0.80        \\\\\n",
       "\t Lech         & -5.2         & -2.82        & 1.80         & 1.90         & 1.04        \\\\\n",
       "\t Perła        & -6.0         & -2.56        & 1.55         & 1.79         & 1.65        \\\\\n",
       "\t Specjal      & -6.0         & -2.36        & 0.10         & 0.84         & 0.43        \\\\\n",
       "\t Żubr         & -6.0         & -2.49        & 1.50         & 1.84         & 0.83        \\\\\n",
       "\t Redds        & -4.5         & -3.87        & 1.40         & 1.69         & 0.98        \\\\\n",
       "\t Carlsberg    & -6.0         & -3.17        & 1.85         & 1.87         & 0.82        \\\\\n",
       "\t Somersby     & -4.5         & -4.04        & 1.30         & 1.59         & 1.00        \\\\\n",
       "\t Tatra\\_Pils   & -6.0           & -2.00          & 1.45           & 1.30           & 0.55          \\\\\n",
       "\t Harnas       & -6.0         & -1.99        & 1.65         & 1.66         & 1.02        \\\\\n",
       "\t Tatra\\_mocne  & -7.0           & -2.62          & 1.10           & 1.44           & 0.35          \\\\\n",
       "\t Okocim\\_mocne & -7.1           & -2.71          & 1.30           & 1.77           & 0.76          \\\\\n",
       "\t Debowe\\_mocne & -7.0           & -2.89          & 1.15           & 1.44           & 0.34          \\\\\n",
       "\\end{tabular}\n"
      ],
      "text/markdown": [
       "\n",
       "| marka | zawartosc.alk | cena | dostepnosc | znajomosc | preferencje |\n",
       "|---|---|---|---|---|---|\n",
       "| Zywiec       | -5.6         | -2.90        | 1.90         | 1.95         | 2.65         |\n",
       "| Desperados   | -6.0         | -4.15        | 1.85         | 1.77         | 0.89         |\n",
       "| Kasztelan    | -5.7         | -2.47        | 1.80         | 1.84         | 2.17         |\n",
       "| Wojak        | -5.0         | -2.10        | 0.45         | 1.41         | 0.38         |\n",
       "| Tyskie       | -5.6         | -2.53        | 1.90         | 1.93         | 1.48         |\n",
       "| Heineken     | -5.0         | -3.64        | 1.60         | 1.90         | 1.14         |\n",
       "| Warka        | -5.7         | -2.59        | 1.20         | 1.92         | 1.06         |\n",
       "| Łomża        | -6.0         | -2.60        | 1.10         | 1.66         | 0.80         |\n",
       "| Lech         | -5.2         | -2.82        | 1.80         | 1.90         | 1.04         |\n",
       "| Perła        | -6.0         | -2.56        | 1.55         | 1.79         | 1.65         |\n",
       "| Specjal      | -6.0         | -2.36        | 0.10         | 0.84         | 0.43         |\n",
       "| Żubr         | -6.0         | -2.49        | 1.50         | 1.84         | 0.83         |\n",
       "| Redds        | -4.5         | -3.87        | 1.40         | 1.69         | 0.98         |\n",
       "| Carlsberg    | -6.0         | -3.17        | 1.85         | 1.87         | 0.82         |\n",
       "| Somersby     | -4.5         | -4.04        | 1.30         | 1.59         | 1.00         |\n",
       "| Tatra_Pils   | -6.0         | -2.00        | 1.45         | 1.30         | 0.55         |\n",
       "| Harnas       | -6.0         | -1.99        | 1.65         | 1.66         | 1.02         |\n",
       "| Tatra_mocne  | -7.0         | -2.62        | 1.10         | 1.44         | 0.35         |\n",
       "| Okocim_mocne | -7.1         | -2.71        | 1.30         | 1.77         | 0.76         |\n",
       "| Debowe_mocne | -7.0         | -2.89        | 1.15         | 1.44         | 0.34         |\n",
       "\n"
      ],
      "text/plain": [
       "   marka        zawartosc.alk cena  dostepnosc znajomosc preferencje\n",
       "1  Zywiec       -5.6          -2.90 1.90       1.95      2.65       \n",
       "2  Desperados   -6.0          -4.15 1.85       1.77      0.89       \n",
       "3  Kasztelan    -5.7          -2.47 1.80       1.84      2.17       \n",
       "4  Wojak        -5.0          -2.10 0.45       1.41      0.38       \n",
       "5  Tyskie       -5.6          -2.53 1.90       1.93      1.48       \n",
       "6  Heineken     -5.0          -3.64 1.60       1.90      1.14       \n",
       "7  Warka        -5.7          -2.59 1.20       1.92      1.06       \n",
       "8  Łomża        -6.0          -2.60 1.10       1.66      0.80       \n",
       "9  Lech         -5.2          -2.82 1.80       1.90      1.04       \n",
       "10 Perła        -6.0          -2.56 1.55       1.79      1.65       \n",
       "11 Specjal      -6.0          -2.36 0.10       0.84      0.43       \n",
       "12 Żubr         -6.0          -2.49 1.50       1.84      0.83       \n",
       "13 Redds        -4.5          -3.87 1.40       1.69      0.98       \n",
       "14 Carlsberg    -6.0          -3.17 1.85       1.87      0.82       \n",
       "15 Somersby     -4.5          -4.04 1.30       1.59      1.00       \n",
       "16 Tatra_Pils   -6.0          -2.00 1.45       1.30      0.55       \n",
       "17 Harnas       -6.0          -1.99 1.65       1.66      1.02       \n",
       "18 Tatra_mocne  -7.0          -2.62 1.10       1.44      0.35       \n",
       "19 Okocim_mocne -7.1          -2.71 1.30       1.77      0.76       \n",
       "20 Debowe_mocne -7.0          -2.89 1.15       1.44      0.34       "
      ]
     },
     "metadata": {},
     "output_type": "display_data"
    }
   ],
   "source": [
    "piwo['cena'] = -1 * piwo['cena']\n",
    "piwo['zawartosc.alk'] = -1 * piwo['zawartosc.alk']\n",
    "dim(piwo)\n",
    "head(piwo)\n",
    "piwo"
   ]
  },
  {
   "cell_type": "markdown",
   "metadata": {},
   "source": [
    "<h3> Standaryzacja </h3>"
   ]
  },
  {
   "cell_type": "code",
   "execution_count": 69,
   "metadata": {},
   "outputs": [
    {
     "data": {
      "text/html": [
       "<table>\n",
       "<thead><tr><th scope=col>marka</th><th scope=col>zawartosc.alk</th><th scope=col>cena</th><th scope=col>dostepnosc</th><th scope=col>znajomosc</th><th scope=col>preferencje</th></tr></thead>\n",
       "<tbody>\n",
       "\t<tr><td>Zywiec      </td><td>-0.7606211  </td><td>-0.3938931  </td><td>0.25806786  </td><td>0.2648591   </td><td>0.35993676  </td></tr>\n",
       "\t<tr><td>Desperados  </td><td>-0.7709433  </td><td>-0.5332358  </td><td>0.23770753  </td><td>0.2274283   </td><td>0.11435660  </td></tr>\n",
       "\t<tr><td>Kasztelan   </td><td>-0.8067038  </td><td>-0.3495716  </td><td>0.25474855  </td><td>0.2604096   </td><td>0.30711354  </td></tr>\n",
       "\t<tr><td>Wojak       </td><td>-0.8874264  </td><td>-0.3727191  </td><td>0.07986837  </td><td>0.2502542   </td><td>0.06744441  </td></tr>\n",
       "\t<tr><td>Tyskie      </td><td>-0.8143682  </td><td>-0.3679199  </td><td>0.27630350  </td><td>0.2806662   </td><td>0.21522589  </td></tr>\n",
       "\t<tr><td>Heineken    </td><td>-0.7394702  </td><td>-0.5383343  </td><td>0.23663047  </td><td>0.2809987   </td><td>0.16859921  </td></tr>\n",
       "\t<tr><td>Warka       </td><td>-0.8455066  </td><td>-0.3841863  </td><td>0.17800138  </td><td>0.2848022   </td><td>0.15723456  </td></tr>\n",
       "\t<tr><td>Łomża       </td><td>-0.8718057  </td><td>-0.3777825  </td><td>0.15983105  </td><td>0.2411996   </td><td>0.11624077  </td></tr>\n",
       "\t<tr><td>Lech        </td><td>-0.7936943  </td><td>-0.4304265  </td><td>0.27474033  </td><td>0.2900037   </td><td>0.15873886  </td></tr>\n",
       "\t<tr><td>Perła       </td><td>-0.8411359  </td><td>-0.3588847  </td><td>0.21729344  </td><td>0.2509389   </td><td>0.23131238  </td></tr>\n",
       "\t<tr><td>Specjal     </td><td>-0.9206819  </td><td>-0.3621349  </td><td>0.01534470  </td><td>0.1288955   </td><td>0.06598220  </td></tr>\n",
       "\t<tr><td>Żubr        </td><td>-0.8613314  </td><td>-0.3574525  </td><td>0.21533284  </td><td>0.2641416   </td><td>0.11915084  </td></tr>\n",
       "\t<tr><td>Redds       </td><td>-0.7027528  </td><td>-0.6043674  </td><td>0.21863420  </td><td>0.2639227   </td><td>0.15304394  </td></tr>\n",
       "\t<tr><td>Carlsberg   </td><td>-0.8192266  </td><td>-0.4328247  </td><td>0.25259486  </td><td>0.2553256   </td><td>0.11196097  </td></tr>\n",
       "\t<tr><td>Somersby    </td><td>-0.6961100  </td><td>-0.6249521  </td><td>0.20109845  </td><td>0.2459589   </td><td>0.15469112  </td></tr>\n",
       "\t<tr><td>Tatra_Pils  </td><td>-0.9035591  </td><td>-0.3011864  </td><td>0.21836012  </td><td>0.1957711   </td><td>0.08282625  </td></tr>\n",
       "\t<tr><td>Harnas      </td><td>-0.8800852  </td><td>-0.2918949  </td><td>0.24202344  </td><td>0.2434902   </td><td>0.14961449  </td></tr>\n",
       "\t<tr><td>Tatra_mocne </td><td>-0.9092404  </td><td>-0.3403157  </td><td>0.14288064  </td><td>0.1870437   </td><td>0.04546202  </td></tr>\n",
       "\t<tr><td>Okocim_mocne</td><td>-0.8934204  </td><td>-0.3410098  </td><td>0.16358401  </td><td>0.2227259   </td><td>0.09563373  </td></tr>\n",
       "\t<tr><td>Debowe_mocne</td><td>-0.8972604  </td><td>-0.3704404  </td><td>0.14740707  </td><td>0.1845793   </td><td>0.04358122  </td></tr>\n",
       "</tbody>\n",
       "</table>\n"
      ],
      "text/latex": [
       "\\begin{tabular}{r|llllll}\n",
       " marka & zawartosc.alk & cena & dostepnosc & znajomosc & preferencje\\\\\n",
       "\\hline\n",
       "\t Zywiec       & -0.7606211   & -0.3938931   & 0.25806786   & 0.2648591    & 0.35993676  \\\\\n",
       "\t Desperados   & -0.7709433   & -0.5332358   & 0.23770753   & 0.2274283    & 0.11435660  \\\\\n",
       "\t Kasztelan    & -0.8067038   & -0.3495716   & 0.25474855   & 0.2604096    & 0.30711354  \\\\\n",
       "\t Wojak        & -0.8874264   & -0.3727191   & 0.07986837   & 0.2502542    & 0.06744441  \\\\\n",
       "\t Tyskie       & -0.8143682   & -0.3679199   & 0.27630350   & 0.2806662    & 0.21522589  \\\\\n",
       "\t Heineken     & -0.7394702   & -0.5383343   & 0.23663047   & 0.2809987    & 0.16859921  \\\\\n",
       "\t Warka        & -0.8455066   & -0.3841863   & 0.17800138   & 0.2848022    & 0.15723456  \\\\\n",
       "\t Łomża        & -0.8718057   & -0.3777825   & 0.15983105   & 0.2411996    & 0.11624077  \\\\\n",
       "\t Lech         & -0.7936943   & -0.4304265   & 0.27474033   & 0.2900037    & 0.15873886  \\\\\n",
       "\t Perła        & -0.8411359   & -0.3588847   & 0.21729344   & 0.2509389    & 0.23131238  \\\\\n",
       "\t Specjal      & -0.9206819   & -0.3621349   & 0.01534470   & 0.1288955    & 0.06598220  \\\\\n",
       "\t Żubr         & -0.8613314   & -0.3574525   & 0.21533284   & 0.2641416    & 0.11915084  \\\\\n",
       "\t Redds        & -0.7027528   & -0.6043674   & 0.21863420   & 0.2639227    & 0.15304394  \\\\\n",
       "\t Carlsberg    & -0.8192266   & -0.4328247   & 0.25259486   & 0.2553256    & 0.11196097  \\\\\n",
       "\t Somersby     & -0.6961100   & -0.6249521   & 0.20109845   & 0.2459589    & 0.15469112  \\\\\n",
       "\t Tatra\\_Pils   & -0.9035591     & -0.3011864     & 0.21836012     & 0.1957711      & 0.08282625    \\\\\n",
       "\t Harnas       & -0.8800852   & -0.2918949   & 0.24202344   & 0.2434902    & 0.14961449  \\\\\n",
       "\t Tatra\\_mocne  & -0.9092404     & -0.3403157     & 0.14288064     & 0.1870437      & 0.04546202    \\\\\n",
       "\t Okocim\\_mocne & -0.8934204     & -0.3410098     & 0.16358401     & 0.2227259      & 0.09563373    \\\\\n",
       "\t Debowe\\_mocne & -0.8972604     & -0.3704404     & 0.14740707     & 0.1845793      & 0.04358122    \\\\\n",
       "\\end{tabular}\n"
      ],
      "text/markdown": [
       "\n",
       "| marka | zawartosc.alk | cena | dostepnosc | znajomosc | preferencje |\n",
       "|---|---|---|---|---|---|\n",
       "| Zywiec       | -0.7606211   | -0.3938931   | 0.25806786   | 0.2648591    | 0.35993676   |\n",
       "| Desperados   | -0.7709433   | -0.5332358   | 0.23770753   | 0.2274283    | 0.11435660   |\n",
       "| Kasztelan    | -0.8067038   | -0.3495716   | 0.25474855   | 0.2604096    | 0.30711354   |\n",
       "| Wojak        | -0.8874264   | -0.3727191   | 0.07986837   | 0.2502542    | 0.06744441   |\n",
       "| Tyskie       | -0.8143682   | -0.3679199   | 0.27630350   | 0.2806662    | 0.21522589   |\n",
       "| Heineken     | -0.7394702   | -0.5383343   | 0.23663047   | 0.2809987    | 0.16859921   |\n",
       "| Warka        | -0.8455066   | -0.3841863   | 0.17800138   | 0.2848022    | 0.15723456   |\n",
       "| Łomża        | -0.8718057   | -0.3777825   | 0.15983105   | 0.2411996    | 0.11624077   |\n",
       "| Lech         | -0.7936943   | -0.4304265   | 0.27474033   | 0.2900037    | 0.15873886   |\n",
       "| Perła        | -0.8411359   | -0.3588847   | 0.21729344   | 0.2509389    | 0.23131238   |\n",
       "| Specjal      | -0.9206819   | -0.3621349   | 0.01534470   | 0.1288955    | 0.06598220   |\n",
       "| Żubr         | -0.8613314   | -0.3574525   | 0.21533284   | 0.2641416    | 0.11915084   |\n",
       "| Redds        | -0.7027528   | -0.6043674   | 0.21863420   | 0.2639227    | 0.15304394   |\n",
       "| Carlsberg    | -0.8192266   | -0.4328247   | 0.25259486   | 0.2553256    | 0.11196097   |\n",
       "| Somersby     | -0.6961100   | -0.6249521   | 0.20109845   | 0.2459589    | 0.15469112   |\n",
       "| Tatra_Pils   | -0.9035591   | -0.3011864   | 0.21836012   | 0.1957711    | 0.08282625   |\n",
       "| Harnas       | -0.8800852   | -0.2918949   | 0.24202344   | 0.2434902    | 0.14961449   |\n",
       "| Tatra_mocne  | -0.9092404   | -0.3403157   | 0.14288064   | 0.1870437    | 0.04546202   |\n",
       "| Okocim_mocne | -0.8934204   | -0.3410098   | 0.16358401   | 0.2227259    | 0.09563373   |\n",
       "| Debowe_mocne | -0.8972604   | -0.3704404   | 0.14740707   | 0.1845793    | 0.04358122   |\n",
       "\n"
      ],
      "text/plain": [
       "   marka        zawartosc.alk cena       dostepnosc znajomosc preferencje\n",
       "1  Zywiec       -0.7606211    -0.3938931 0.25806786 0.2648591 0.35993676 \n",
       "2  Desperados   -0.7709433    -0.5332358 0.23770753 0.2274283 0.11435660 \n",
       "3  Kasztelan    -0.8067038    -0.3495716 0.25474855 0.2604096 0.30711354 \n",
       "4  Wojak        -0.8874264    -0.3727191 0.07986837 0.2502542 0.06744441 \n",
       "5  Tyskie       -0.8143682    -0.3679199 0.27630350 0.2806662 0.21522589 \n",
       "6  Heineken     -0.7394702    -0.5383343 0.23663047 0.2809987 0.16859921 \n",
       "7  Warka        -0.8455066    -0.3841863 0.17800138 0.2848022 0.15723456 \n",
       "8  Łomża        -0.8718057    -0.3777825 0.15983105 0.2411996 0.11624077 \n",
       "9  Lech         -0.7936943    -0.4304265 0.27474033 0.2900037 0.15873886 \n",
       "10 Perła        -0.8411359    -0.3588847 0.21729344 0.2509389 0.23131238 \n",
       "11 Specjal      -0.9206819    -0.3621349 0.01534470 0.1288955 0.06598220 \n",
       "12 Żubr         -0.8613314    -0.3574525 0.21533284 0.2641416 0.11915084 \n",
       "13 Redds        -0.7027528    -0.6043674 0.21863420 0.2639227 0.15304394 \n",
       "14 Carlsberg    -0.8192266    -0.4328247 0.25259486 0.2553256 0.11196097 \n",
       "15 Somersby     -0.6961100    -0.6249521 0.20109845 0.2459589 0.15469112 \n",
       "16 Tatra_Pils   -0.9035591    -0.3011864 0.21836012 0.1957711 0.08282625 \n",
       "17 Harnas       -0.8800852    -0.2918949 0.24202344 0.2434902 0.14961449 \n",
       "18 Tatra_mocne  -0.9092404    -0.3403157 0.14288064 0.1870437 0.04546202 \n",
       "19 Okocim_mocne -0.8934204    -0.3410098 0.16358401 0.2227259 0.09563373 \n",
       "20 Debowe_mocne -0.8972604    -0.3704404 0.14740707 0.1845793 0.04358122 "
      ]
     },
     "metadata": {},
     "output_type": "display_data"
    }
   ],
   "source": [
    "piwo_std <- piwo\n",
    "\n",
    "for (i in 1:20) {\n",
    "    for (j in 2:6) {\n",
    "        piwo_std [i, j] = piwo[i, j] / sqrt(sum(piwo[i, (2:6)]^2)) \n",
    "    }\n",
    "}\n",
    "\n",
    "piwo_std\n"
   ]
  },
  {
   "cell_type": "markdown",
   "metadata": {},
   "source": [
    "<h3> Wzorzec i antywzorzec </h3>"
   ]
  },
  {
   "cell_type": "code",
   "execution_count": 70,
   "metadata": {},
   "outputs": [
    {
     "data": {
      "text/html": [
       "<ol class=list-inline>\n",
       "\t<li>-0.696110023036612</li>\n",
       "\t<li>-0.291894933843449</li>\n",
       "\t<li>0.276303504649833</li>\n",
       "\t<li>0.290003679294396</li>\n",
       "\t<li>0.359936757146187</li>\n",
       "</ol>\n"
      ],
      "text/latex": [
       "\\begin{enumerate*}\n",
       "\\item -0.696110023036612\n",
       "\\item -0.291894933843449\n",
       "\\item 0.276303504649833\n",
       "\\item 0.290003679294396\n",
       "\\item 0.359936757146187\n",
       "\\end{enumerate*}\n"
      ],
      "text/markdown": [
       "1. -0.696110023036612\n",
       "2. -0.291894933843449\n",
       "3. 0.276303504649833\n",
       "4. 0.290003679294396\n",
       "5. 0.359936757146187\n",
       "\n",
       "\n"
      ],
      "text/plain": [
       "[1] -0.6961100 -0.2918949  0.2763035  0.2900037  0.3599368"
      ]
     },
     "metadata": {},
     "output_type": "display_data"
    },
    {
     "data": {
      "text/html": [
       "<ol class=list-inline>\n",
       "\t<li>-0.920681906998974</li>\n",
       "\t<li>-0.624952109570647</li>\n",
       "\t<li>0.0153446984499829</li>\n",
       "\t<li>0.128895466979856</li>\n",
       "\t<li>0.0435812201543334</li>\n",
       "</ol>\n"
      ],
      "text/latex": [
       "\\begin{enumerate*}\n",
       "\\item -0.920681906998974\n",
       "\\item -0.624952109570647\n",
       "\\item 0.0153446984499829\n",
       "\\item 0.128895466979856\n",
       "\\item 0.0435812201543334\n",
       "\\end{enumerate*}\n"
      ],
      "text/markdown": [
       "1. -0.920681906998974\n",
       "2. -0.624952109570647\n",
       "3. 0.0153446984499829\n",
       "4. 0.128895466979856\n",
       "5. 0.0435812201543334\n",
       "\n",
       "\n"
      ],
      "text/plain": [
       "[1] -0.92068191 -0.62495211  0.01534470  0.12889547  0.04358122"
      ]
     },
     "metadata": {},
     "output_type": "display_data"
    }
   ],
   "source": [
    "wzorzec <- c()\n",
    "anty_wzorzec <- c()\n",
    "\n",
    "\n",
    "for (i in 2:6) {\n",
    "    wzorzec[i-1] = max(piwo_std[i])\n",
    "    anty_wzorzec[i-1] = min(piwo_std[i])\n",
    "}\n",
    "\n",
    "wzorzec\n",
    "anty_wzorzec"
   ]
  },
  {
   "cell_type": "markdown",
   "metadata": {},
   "source": [
    "<h3> Odleglosci od wzorca i antywzorca </h3>"
   ]
  },
  {
   "cell_type": "code",
   "execution_count": 71,
   "metadata": {},
   "outputs": [
    {
     "data": {
      "text/html": [
       "<table>\n",
       "<thead><tr><th scope=col>marka</th><th scope=col>zawartosc.alk</th><th scope=col>cena</th><th scope=col>dostepnosc</th><th scope=col>znajomosc</th><th scope=col>preferencje</th><th scope=col>dist_wzorzec</th><th scope=col>dist_anty</th></tr></thead>\n",
       "<tbody>\n",
       "\t<tr><td>Zywiec    </td><td>-0.7606211</td><td>-0.3938931</td><td>0.25806786</td><td>0.2648591 </td><td>0.35993676</td><td>0.1246197 </td><td>0.5064477 </td></tr>\n",
       "\t<tr><td>Desperados</td><td>-0.7709433</td><td>-0.5332358</td><td>0.23770753</td><td>0.2274283 </td><td>0.11435660</td><td>0.3599450 </td><td>0.3082152 </td></tr>\n",
       "\t<tr><td>Kasztelan </td><td>-0.8067038</td><td>-0.3495716</td><td>0.25474855</td><td>0.2604096 </td><td>0.30711354</td><td>0.1403150 </td><td>0.4825815 </td></tr>\n",
       "\t<tr><td>Wojak     </td><td>-0.8874264</td><td>-0.3727191</td><td>0.07986837</td><td>0.2502542 </td><td>0.06744441</td><td>0.4109173 </td><td>0.2901519 </td></tr>\n",
       "\t<tr><td>Tyskie    </td><td>-0.8143682</td><td>-0.3679199</td><td>0.27630350</td><td>0.2806662 </td><td>0.21522589</td><td>0.2019733 </td><td>0.4449313 </td></tr>\n",
       "\t<tr><td>Heineken  </td><td>-0.7394702</td><td>-0.5383343</td><td>0.23663047</td><td>0.2809987 </td><td>0.16859921</td><td>0.3176123 </td><td>0.3578723 </td></tr>\n",
       "</tbody>\n",
       "</table>\n"
      ],
      "text/latex": [
       "\\begin{tabular}{r|llllllll}\n",
       " marka & zawartosc.alk & cena & dostepnosc & znajomosc & preferencje & dist\\_wzorzec & dist\\_anty\\\\\n",
       "\\hline\n",
       "\t Zywiec     & -0.7606211 & -0.3938931 & 0.25806786 & 0.2648591  & 0.35993676 & 0.1246197  & 0.5064477 \\\\\n",
       "\t Desperados & -0.7709433 & -0.5332358 & 0.23770753 & 0.2274283  & 0.11435660 & 0.3599450  & 0.3082152 \\\\\n",
       "\t Kasztelan  & -0.8067038 & -0.3495716 & 0.25474855 & 0.2604096  & 0.30711354 & 0.1403150  & 0.4825815 \\\\\n",
       "\t Wojak      & -0.8874264 & -0.3727191 & 0.07986837 & 0.2502542  & 0.06744441 & 0.4109173  & 0.2901519 \\\\\n",
       "\t Tyskie     & -0.8143682 & -0.3679199 & 0.27630350 & 0.2806662  & 0.21522589 & 0.2019733  & 0.4449313 \\\\\n",
       "\t Heineken   & -0.7394702 & -0.5383343 & 0.23663047 & 0.2809987  & 0.16859921 & 0.3176123  & 0.3578723 \\\\\n",
       "\\end{tabular}\n"
      ],
      "text/markdown": [
       "\n",
       "| marka | zawartosc.alk | cena | dostepnosc | znajomosc | preferencje | dist_wzorzec | dist_anty |\n",
       "|---|---|---|---|---|---|---|---|\n",
       "| Zywiec     | -0.7606211 | -0.3938931 | 0.25806786 | 0.2648591  | 0.35993676 | 0.1246197  | 0.5064477  |\n",
       "| Desperados | -0.7709433 | -0.5332358 | 0.23770753 | 0.2274283  | 0.11435660 | 0.3599450  | 0.3082152  |\n",
       "| Kasztelan  | -0.8067038 | -0.3495716 | 0.25474855 | 0.2604096  | 0.30711354 | 0.1403150  | 0.4825815  |\n",
       "| Wojak      | -0.8874264 | -0.3727191 | 0.07986837 | 0.2502542  | 0.06744441 | 0.4109173  | 0.2901519  |\n",
       "| Tyskie     | -0.8143682 | -0.3679199 | 0.27630350 | 0.2806662  | 0.21522589 | 0.2019733  | 0.4449313  |\n",
       "| Heineken   | -0.7394702 | -0.5383343 | 0.23663047 | 0.2809987  | 0.16859921 | 0.3176123  | 0.3578723  |\n",
       "\n"
      ],
      "text/plain": [
       "  marka      zawartosc.alk cena       dostepnosc znajomosc preferencje\n",
       "1 Zywiec     -0.7606211    -0.3938931 0.25806786 0.2648591 0.35993676 \n",
       "2 Desperados -0.7709433    -0.5332358 0.23770753 0.2274283 0.11435660 \n",
       "3 Kasztelan  -0.8067038    -0.3495716 0.25474855 0.2604096 0.30711354 \n",
       "4 Wojak      -0.8874264    -0.3727191 0.07986837 0.2502542 0.06744441 \n",
       "5 Tyskie     -0.8143682    -0.3679199 0.27630350 0.2806662 0.21522589 \n",
       "6 Heineken   -0.7394702    -0.5383343 0.23663047 0.2809987 0.16859921 \n",
       "  dist_wzorzec dist_anty\n",
       "1 0.1246197    0.5064477\n",
       "2 0.3599450    0.3082152\n",
       "3 0.1403150    0.4825815\n",
       "4 0.4109173    0.2901519\n",
       "5 0.2019733    0.4449313\n",
       "6 0.3176123    0.3578723"
      ]
     },
     "metadata": {},
     "output_type": "display_data"
    }
   ],
   "source": [
    "dist_wzorzec <- c()\n",
    "dist_anty <- c()\n",
    "\n",
    "for (i in 1:20) {\n",
    "    dane_wzorzec <- rbind(piwo_std[i, (2:6)], wzorzec)\n",
    "    dane_anty <- rbind(piwo_std[i, (2:6)], anty_wzorzec)\n",
    "    \n",
    "    dist_wzorzec[i] = dist(dane_wzorzec)\n",
    "    dist_anty[i] = dist(dane_anty)\n",
    "}\n",
    "\n",
    "piwo_std_odl <- cbind(piwo_std, dist_wzorzec, dist_anty)\n",
    "head(piwo_std_odl)"
   ]
  },
  {
   "cell_type": "markdown",
   "metadata": {},
   "source": [
    "<h3> Wartość finalna wskaznika </h3>"
   ]
  },
  {
   "cell_type": "code",
   "execution_count": 72,
   "metadata": {},
   "outputs": [
    {
     "data": {
      "text/html": [
       "<table>\n",
       "<thead><tr><th></th><th scope=col>marka</th><th scope=col>zawartosc.alk</th><th scope=col>cena</th><th scope=col>dostepnosc</th><th scope=col>znajomosc</th><th scope=col>preferencje</th><th scope=col>dist_wzorzec</th><th scope=col>dist_anty</th><th scope=col>wsk</th></tr></thead>\n",
       "<tbody>\n",
       "\t<tr><th scope=row>1</th><td>Zywiec      </td><td>-0.7606211  </td><td>-0.3938931  </td><td>0.25806786  </td><td>0.2648591   </td><td>0.35993676  </td><td>0.1246197   </td><td>0.5064477   </td><td>0.8025255   </td></tr>\n",
       "\t<tr><th scope=row>3</th><td>Kasztelan   </td><td>-0.8067038  </td><td>-0.3495716  </td><td>0.25474855  </td><td>0.2604096   </td><td>0.30711354  </td><td>0.1403150   </td><td>0.4825815   </td><td>0.7747379   </td></tr>\n",
       "\t<tr><th scope=row>5</th><td>Tyskie      </td><td>-0.8143682  </td><td>-0.3679199  </td><td>0.27630350  </td><td>0.2806662   </td><td>0.21522589  </td><td>0.2019733   </td><td>0.4449313   </td><td>0.6877850   </td></tr>\n",
       "\t<tr><th scope=row>10</th><td>Perła       </td><td>-0.8411359  </td><td>-0.3588847  </td><td>0.21729344  </td><td>0.2509389   </td><td>0.23131238  </td><td>0.2169622   </td><td>0.4099272   </td><td>0.6539067   </td></tr>\n",
       "\t<tr><th scope=row>9</th><td>Lech        </td><td>-0.7936943  </td><td>-0.4304265  </td><td>0.27474033  </td><td>0.2900037   </td><td>0.15873886  </td><td>0.2630527   </td><td>0.4005862   </td><td>0.6036207   </td></tr>\n",
       "\t<tr><th scope=row>17</th><td>Harnas      </td><td>-0.8800852  </td><td>-0.2918949  </td><td>0.24202344  </td><td>0.2434902   </td><td>0.14961449  </td><td>0.2853436   </td><td>0.4339740   </td><td>0.6033135   </td></tr>\n",
       "\t<tr><th scope=row>7</th><td>Warka       </td><td>-0.8455066  </td><td>-0.3841863  </td><td>0.17800138  </td><td>0.2848022   </td><td>0.15723456  </td><td>0.2856844   </td><td>0.3567922   </td><td>0.5553388   </td></tr>\n",
       "\t<tr><th scope=row>12</th><td>Żubr        </td><td>-0.8613314  </td><td>-0.3574525  </td><td>0.21533284  </td><td>0.2641416   </td><td>0.11915084  </td><td>0.3065290   </td><td>0.3729290   </td><td>0.5488625   </td></tr>\n",
       "\t<tr><th scope=row>6</th><td>Heineken    </td><td>-0.7394702  </td><td>-0.5383343  </td><td>0.23663047  </td><td>0.2809987   </td><td>0.16859921  </td><td>0.3176123   </td><td>0.3578723   </td><td>0.5298008   </td></tr>\n",
       "\t<tr><th scope=row>14</th><td>Carlsberg   </td><td>-0.8192266  </td><td>-0.4328247  </td><td>0.25259486  </td><td>0.2553256   </td><td>0.11196097  </td><td>0.3134893   </td><td>0.3523551   </td><td>0.5291854   </td></tr>\n",
       "\t<tr><th scope=row>16</th><td>Tatra_Pils  </td><td>-0.9035591  </td><td>-0.3011864  </td><td>0.21836012  </td><td>0.1957711   </td><td>0.08282625  </td><td>0.3635229   </td><td>0.3903143   </td><td>0.5177700   </td></tr>\n",
       "\t<tr><th scope=row>8</th><td>Łomża       </td><td>-0.8718057  </td><td>-0.3777825  </td><td>0.15983105  </td><td>0.2411996   </td><td>0.11624077  </td><td>0.3370179   </td><td>0.3197650   </td><td>0.4868656   </td></tr>\n",
       "\t<tr><th scope=row>19</th><td>Okocim_mocne</td><td>-0.8934204  </td><td>-0.3410098  </td><td>0.16358401  </td><td>0.2227259   </td><td>0.09563373  </td><td>0.3583737   </td><td>0.3389026   </td><td>0.4860377   </td></tr>\n",
       "\t<tr><th scope=row>13</th><td>Redds       </td><td>-0.7027528  </td><td>-0.6043674  </td><td>0.21863420  </td><td>0.2639227   </td><td>0.15304394  </td><td>0.3801234   </td><td>0.3456268   </td><td>0.4762339   </td></tr>\n",
       "\t<tr><th scope=row>2</th><td>Desperados  </td><td>-0.7709433  </td><td>-0.5332358  </td><td>0.23770753  </td><td>0.2274283   </td><td>0.11435660  </td><td>0.3599450   </td><td>0.3082152   </td><td>0.4612894   </td></tr>\n",
       "\t<tr><th scope=row>15</th><td>Somersby    </td><td>-0.6961100  </td><td>-0.6249521  </td><td>0.20109845  </td><td>0.2459589   </td><td>0.15469112  </td><td>0.4008099   </td><td>0.3331460   </td><td>0.4539046   </td></tr>\n",
       "\t<tr><th scope=row>18</th><td>Tatra_mocne </td><td>-0.9092404  </td><td>-0.3403157  </td><td>0.14288064  </td><td>0.1870437   </td><td>0.04546202  </td><td>0.4184088   </td><td>0.3174885   </td><td>0.4314305   </td></tr>\n",
       "\t<tr><th scope=row>4</th><td>Wojak       </td><td>-0.8874264  </td><td>-0.3727191  </td><td>0.07986837  </td><td>0.2502542   </td><td>0.06744441  </td><td>0.4109173   </td><td>0.2901519   </td><td>0.4138706   </td></tr>\n",
       "\t<tr><th scope=row>20</th><td>Debowe_mocne</td><td>-0.8972604  </td><td>-0.3704404  </td><td>0.14740707  </td><td>0.1845793   </td><td>0.04358122  </td><td>0.4176605   </td><td>0.2930289   </td><td>0.4123164   </td></tr>\n",
       "\t<tr><th scope=row>11</th><td>Specjal     </td><td>-0.9206819  </td><td>-0.3621349  </td><td>0.01534470  </td><td>0.1288955   </td><td>0.06598220  </td><td>0.4856242   </td><td>0.2637702   </td><td>0.3519778   </td></tr>\n",
       "</tbody>\n",
       "</table>\n"
      ],
      "text/latex": [
       "\\begin{tabular}{r|lllllllll}\n",
       "  & marka & zawartosc.alk & cena & dostepnosc & znajomosc & preferencje & dist\\_wzorzec & dist\\_anty & wsk\\\\\n",
       "\\hline\n",
       "\t1 & Zywiec       & -0.7606211   & -0.3938931   & 0.25806786   & 0.2648591    & 0.35993676   & 0.1246197    & 0.5064477    & 0.8025255   \\\\\n",
       "\t3 & Kasztelan    & -0.8067038   & -0.3495716   & 0.25474855   & 0.2604096    & 0.30711354   & 0.1403150    & 0.4825815    & 0.7747379   \\\\\n",
       "\t5 & Tyskie       & -0.8143682   & -0.3679199   & 0.27630350   & 0.2806662    & 0.21522589   & 0.2019733    & 0.4449313    & 0.6877850   \\\\\n",
       "\t10 & Perła        & -0.8411359   & -0.3588847   & 0.21729344   & 0.2509389    & 0.23131238   & 0.2169622    & 0.4099272    & 0.6539067   \\\\\n",
       "\t9 & Lech         & -0.7936943   & -0.4304265   & 0.27474033   & 0.2900037    & 0.15873886   & 0.2630527    & 0.4005862    & 0.6036207   \\\\\n",
       "\t17 & Harnas       & -0.8800852   & -0.2918949   & 0.24202344   & 0.2434902    & 0.14961449   & 0.2853436    & 0.4339740    & 0.6033135   \\\\\n",
       "\t7 & Warka        & -0.8455066   & -0.3841863   & 0.17800138   & 0.2848022    & 0.15723456   & 0.2856844    & 0.3567922    & 0.5553388   \\\\\n",
       "\t12 & Żubr         & -0.8613314   & -0.3574525   & 0.21533284   & 0.2641416    & 0.11915084   & 0.3065290    & 0.3729290    & 0.5488625   \\\\\n",
       "\t6 & Heineken     & -0.7394702   & -0.5383343   & 0.23663047   & 0.2809987    & 0.16859921   & 0.3176123    & 0.3578723    & 0.5298008   \\\\\n",
       "\t14 & Carlsberg    & -0.8192266   & -0.4328247   & 0.25259486   & 0.2553256    & 0.11196097   & 0.3134893    & 0.3523551    & 0.5291854   \\\\\n",
       "\t16 & Tatra\\_Pils   & -0.9035591     & -0.3011864     & 0.21836012     & 0.1957711      & 0.08282625     & 0.3635229      & 0.3903143      & 0.5177700     \\\\\n",
       "\t8 & Łomża        & -0.8718057   & -0.3777825   & 0.15983105   & 0.2411996    & 0.11624077   & 0.3370179    & 0.3197650    & 0.4868656   \\\\\n",
       "\t19 & Okocim\\_mocne & -0.8934204     & -0.3410098     & 0.16358401     & 0.2227259      & 0.09563373     & 0.3583737      & 0.3389026      & 0.4860377     \\\\\n",
       "\t13 & Redds        & -0.7027528   & -0.6043674   & 0.21863420   & 0.2639227    & 0.15304394   & 0.3801234    & 0.3456268    & 0.4762339   \\\\\n",
       "\t2 & Desperados   & -0.7709433   & -0.5332358   & 0.23770753   & 0.2274283    & 0.11435660   & 0.3599450    & 0.3082152    & 0.4612894   \\\\\n",
       "\t15 & Somersby     & -0.6961100   & -0.6249521   & 0.20109845   & 0.2459589    & 0.15469112   & 0.4008099    & 0.3331460    & 0.4539046   \\\\\n",
       "\t18 & Tatra\\_mocne  & -0.9092404     & -0.3403157     & 0.14288064     & 0.1870437      & 0.04546202     & 0.4184088      & 0.3174885      & 0.4314305     \\\\\n",
       "\t4 & Wojak        & -0.8874264   & -0.3727191   & 0.07986837   & 0.2502542    & 0.06744441   & 0.4109173    & 0.2901519    & 0.4138706   \\\\\n",
       "\t20 & Debowe\\_mocne & -0.8972604     & -0.3704404     & 0.14740707     & 0.1845793      & 0.04358122     & 0.4176605      & 0.2930289      & 0.4123164     \\\\\n",
       "\t11 & Specjal      & -0.9206819   & -0.3621349   & 0.01534470   & 0.1288955    & 0.06598220   & 0.4856242    & 0.2637702    & 0.3519778   \\\\\n",
       "\\end{tabular}\n"
      ],
      "text/markdown": [
       "\n",
       "| <!--/--> | marka | zawartosc.alk | cena | dostepnosc | znajomosc | preferencje | dist_wzorzec | dist_anty | wsk |\n",
       "|---|---|---|---|---|---|---|---|---|---|\n",
       "| 1 | Zywiec       | -0.7606211   | -0.3938931   | 0.25806786   | 0.2648591    | 0.35993676   | 0.1246197    | 0.5064477    | 0.8025255    |\n",
       "| 3 | Kasztelan    | -0.8067038   | -0.3495716   | 0.25474855   | 0.2604096    | 0.30711354   | 0.1403150    | 0.4825815    | 0.7747379    |\n",
       "| 5 | Tyskie       | -0.8143682   | -0.3679199   | 0.27630350   | 0.2806662    | 0.21522589   | 0.2019733    | 0.4449313    | 0.6877850    |\n",
       "| 10 | Perła        | -0.8411359   | -0.3588847   | 0.21729344   | 0.2509389    | 0.23131238   | 0.2169622    | 0.4099272    | 0.6539067    |\n",
       "| 9 | Lech         | -0.7936943   | -0.4304265   | 0.27474033   | 0.2900037    | 0.15873886   | 0.2630527    | 0.4005862    | 0.6036207    |\n",
       "| 17 | Harnas       | -0.8800852   | -0.2918949   | 0.24202344   | 0.2434902    | 0.14961449   | 0.2853436    | 0.4339740    | 0.6033135    |\n",
       "| 7 | Warka        | -0.8455066   | -0.3841863   | 0.17800138   | 0.2848022    | 0.15723456   | 0.2856844    | 0.3567922    | 0.5553388    |\n",
       "| 12 | Żubr         | -0.8613314   | -0.3574525   | 0.21533284   | 0.2641416    | 0.11915084   | 0.3065290    | 0.3729290    | 0.5488625    |\n",
       "| 6 | Heineken     | -0.7394702   | -0.5383343   | 0.23663047   | 0.2809987    | 0.16859921   | 0.3176123    | 0.3578723    | 0.5298008    |\n",
       "| 14 | Carlsberg    | -0.8192266   | -0.4328247   | 0.25259486   | 0.2553256    | 0.11196097   | 0.3134893    | 0.3523551    | 0.5291854    |\n",
       "| 16 | Tatra_Pils   | -0.9035591   | -0.3011864   | 0.21836012   | 0.1957711    | 0.08282625   | 0.3635229    | 0.3903143    | 0.5177700    |\n",
       "| 8 | Łomża        | -0.8718057   | -0.3777825   | 0.15983105   | 0.2411996    | 0.11624077   | 0.3370179    | 0.3197650    | 0.4868656    |\n",
       "| 19 | Okocim_mocne | -0.8934204   | -0.3410098   | 0.16358401   | 0.2227259    | 0.09563373   | 0.3583737    | 0.3389026    | 0.4860377    |\n",
       "| 13 | Redds        | -0.7027528   | -0.6043674   | 0.21863420   | 0.2639227    | 0.15304394   | 0.3801234    | 0.3456268    | 0.4762339    |\n",
       "| 2 | Desperados   | -0.7709433   | -0.5332358   | 0.23770753   | 0.2274283    | 0.11435660   | 0.3599450    | 0.3082152    | 0.4612894    |\n",
       "| 15 | Somersby     | -0.6961100   | -0.6249521   | 0.20109845   | 0.2459589    | 0.15469112   | 0.4008099    | 0.3331460    | 0.4539046    |\n",
       "| 18 | Tatra_mocne  | -0.9092404   | -0.3403157   | 0.14288064   | 0.1870437    | 0.04546202   | 0.4184088    | 0.3174885    | 0.4314305    |\n",
       "| 4 | Wojak        | -0.8874264   | -0.3727191   | 0.07986837   | 0.2502542    | 0.06744441   | 0.4109173    | 0.2901519    | 0.4138706    |\n",
       "| 20 | Debowe_mocne | -0.8972604   | -0.3704404   | 0.14740707   | 0.1845793    | 0.04358122   | 0.4176605    | 0.2930289    | 0.4123164    |\n",
       "| 11 | Specjal      | -0.9206819   | -0.3621349   | 0.01534470   | 0.1288955    | 0.06598220   | 0.4856242    | 0.2637702    | 0.3519778    |\n",
       "\n"
      ],
      "text/plain": [
       "   marka        zawartosc.alk cena       dostepnosc znajomosc preferencje\n",
       "1  Zywiec       -0.7606211    -0.3938931 0.25806786 0.2648591 0.35993676 \n",
       "3  Kasztelan    -0.8067038    -0.3495716 0.25474855 0.2604096 0.30711354 \n",
       "5  Tyskie       -0.8143682    -0.3679199 0.27630350 0.2806662 0.21522589 \n",
       "10 Perła        -0.8411359    -0.3588847 0.21729344 0.2509389 0.23131238 \n",
       "9  Lech         -0.7936943    -0.4304265 0.27474033 0.2900037 0.15873886 \n",
       "17 Harnas       -0.8800852    -0.2918949 0.24202344 0.2434902 0.14961449 \n",
       "7  Warka        -0.8455066    -0.3841863 0.17800138 0.2848022 0.15723456 \n",
       "12 Żubr         -0.8613314    -0.3574525 0.21533284 0.2641416 0.11915084 \n",
       "6  Heineken     -0.7394702    -0.5383343 0.23663047 0.2809987 0.16859921 \n",
       "14 Carlsberg    -0.8192266    -0.4328247 0.25259486 0.2553256 0.11196097 \n",
       "16 Tatra_Pils   -0.9035591    -0.3011864 0.21836012 0.1957711 0.08282625 \n",
       "8  Łomża        -0.8718057    -0.3777825 0.15983105 0.2411996 0.11624077 \n",
       "19 Okocim_mocne -0.8934204    -0.3410098 0.16358401 0.2227259 0.09563373 \n",
       "13 Redds        -0.7027528    -0.6043674 0.21863420 0.2639227 0.15304394 \n",
       "2  Desperados   -0.7709433    -0.5332358 0.23770753 0.2274283 0.11435660 \n",
       "15 Somersby     -0.6961100    -0.6249521 0.20109845 0.2459589 0.15469112 \n",
       "18 Tatra_mocne  -0.9092404    -0.3403157 0.14288064 0.1870437 0.04546202 \n",
       "4  Wojak        -0.8874264    -0.3727191 0.07986837 0.2502542 0.06744441 \n",
       "20 Debowe_mocne -0.8972604    -0.3704404 0.14740707 0.1845793 0.04358122 \n",
       "11 Specjal      -0.9206819    -0.3621349 0.01534470 0.1288955 0.06598220 \n",
       "   dist_wzorzec dist_anty wsk      \n",
       "1  0.1246197    0.5064477 0.8025255\n",
       "3  0.1403150    0.4825815 0.7747379\n",
       "5  0.2019733    0.4449313 0.6877850\n",
       "10 0.2169622    0.4099272 0.6539067\n",
       "9  0.2630527    0.4005862 0.6036207\n",
       "17 0.2853436    0.4339740 0.6033135\n",
       "7  0.2856844    0.3567922 0.5553388\n",
       "12 0.3065290    0.3729290 0.5488625\n",
       "6  0.3176123    0.3578723 0.5298008\n",
       "14 0.3134893    0.3523551 0.5291854\n",
       "16 0.3635229    0.3903143 0.5177700\n",
       "8  0.3370179    0.3197650 0.4868656\n",
       "19 0.3583737    0.3389026 0.4860377\n",
       "13 0.3801234    0.3456268 0.4762339\n",
       "2  0.3599450    0.3082152 0.4612894\n",
       "15 0.4008099    0.3331460 0.4539046\n",
       "18 0.4184088    0.3174885 0.4314305\n",
       "4  0.4109173    0.2901519 0.4138706\n",
       "20 0.4176605    0.2930289 0.4123164\n",
       "11 0.4856242    0.2637702 0.3519778"
      ]
     },
     "metadata": {},
     "output_type": "display_data"
    }
   ],
   "source": [
    "wsk <- dist_anty/(dist_wzorzec+dist_anty)\n",
    "\n",
    "ranking <- cbind(piwo_std_odl, wsk)\n",
    "\n",
    "ranking <- ranking[order(-ranking$wsk),]\n",
    "\n",
    "ranking"
   ]
  },
  {
   "cell_type": "code",
   "execution_count": null,
   "metadata": {},
   "outputs": [],
   "source": []
  }
 ],
 "metadata": {
  "kernelspec": {
   "display_name": "R",
   "language": "R",
   "name": "ir"
  },
  "language_info": {
   "codemirror_mode": "r",
   "file_extension": ".r",
   "mimetype": "text/x-r-source",
   "name": "R",
   "pygments_lexer": "r",
   "version": "3.6.1"
  }
 },
 "nbformat": 4,
 "nbformat_minor": 2
}
