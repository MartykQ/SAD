{
 "cells": [
  {
   "cell_type": "markdown",
   "metadata": {},
   "source": [
    "# SAD\n",
    "# Metoda Hellwiga"
   ]
  },
  {
   "cell_type": "code",
   "execution_count": 17,
   "metadata": {},
   "outputs": [],
   "source": [
    "piwo = read.csv(file = \"piwo.csv\",  header = TRUE, sep = \";\", stringsAsFactors = FALSE)"
   ]
  },
  {
   "cell_type": "code",
   "execution_count": 18,
   "metadata": {},
   "outputs": [
    {
     "data": {
      "text/html": [
       "<table>\n",
       "<thead><tr><th scope=col>marka</th><th scope=col>zawartosc.alk</th><th scope=col>cena</th><th scope=col>dostepnosc</th><th scope=col>znajomosc</th><th scope=col>preferencje</th></tr></thead>\n",
       "<tbody>\n",
       "\t<tr><td>Zywiec    </td><td>5.6       </td><td>2.90      </td><td>1.90      </td><td>1.95      </td><td>2.65      </td></tr>\n",
       "\t<tr><td>Desperados</td><td>6.0       </td><td>4.15      </td><td>1.85      </td><td>1.77      </td><td>0.89      </td></tr>\n",
       "\t<tr><td>Kasztelan </td><td>5.7       </td><td>2.47      </td><td>1.80      </td><td>1.84      </td><td>2.17      </td></tr>\n",
       "\t<tr><td>Wojak     </td><td>5.0       </td><td>2.10      </td><td>0.45      </td><td>1.41      </td><td>0.38      </td></tr>\n",
       "\t<tr><td>Tyskie    </td><td>5.6       </td><td>2.53      </td><td>1.90      </td><td>1.93      </td><td>1.48      </td></tr>\n",
       "\t<tr><td>Heineken  </td><td>5.0       </td><td>3.64      </td><td>1.60      </td><td>1.90      </td><td>1.14      </td></tr>\n",
       "</tbody>\n",
       "</table>\n"
      ],
      "text/latex": [
       "\\begin{tabular}{r|llllll}\n",
       " marka & zawartosc.alk & cena & dostepnosc & znajomosc & preferencje\\\\\n",
       "\\hline\n",
       "\t Zywiec     & 5.6        & 2.90       & 1.90       & 1.95       & 2.65      \\\\\n",
       "\t Desperados & 6.0        & 4.15       & 1.85       & 1.77       & 0.89      \\\\\n",
       "\t Kasztelan  & 5.7        & 2.47       & 1.80       & 1.84       & 2.17      \\\\\n",
       "\t Wojak      & 5.0        & 2.10       & 0.45       & 1.41       & 0.38      \\\\\n",
       "\t Tyskie     & 5.6        & 2.53       & 1.90       & 1.93       & 1.48      \\\\\n",
       "\t Heineken   & 5.0        & 3.64       & 1.60       & 1.90       & 1.14      \\\\\n",
       "\\end{tabular}\n"
      ],
      "text/markdown": [
       "\n",
       "| marka | zawartosc.alk | cena | dostepnosc | znajomosc | preferencje |\n",
       "|---|---|---|---|---|---|\n",
       "| Zywiec     | 5.6        | 2.90       | 1.90       | 1.95       | 2.65       |\n",
       "| Desperados | 6.0        | 4.15       | 1.85       | 1.77       | 0.89       |\n",
       "| Kasztelan  | 5.7        | 2.47       | 1.80       | 1.84       | 2.17       |\n",
       "| Wojak      | 5.0        | 2.10       | 0.45       | 1.41       | 0.38       |\n",
       "| Tyskie     | 5.6        | 2.53       | 1.90       | 1.93       | 1.48       |\n",
       "| Heineken   | 5.0        | 3.64       | 1.60       | 1.90       | 1.14       |\n",
       "\n"
      ],
      "text/plain": [
       "  marka      zawartosc.alk cena dostepnosc znajomosc preferencje\n",
       "1 Zywiec     5.6           2.90 1.90       1.95      2.65       \n",
       "2 Desperados 6.0           4.15 1.85       1.77      0.89       \n",
       "3 Kasztelan  5.7           2.47 1.80       1.84      2.17       \n",
       "4 Wojak      5.0           2.10 0.45       1.41      0.38       \n",
       "5 Tyskie     5.6           2.53 1.90       1.93      1.48       \n",
       "6 Heineken   5.0           3.64 1.60       1.90      1.14       "
      ]
     },
     "metadata": {},
     "output_type": "display_data"
    }
   ],
   "source": [
    "head(piwo)"
   ]
  },
  {
   "cell_type": "markdown",
   "metadata": {},
   "source": [
    "<h3> Stymulanty </h3>\n"
   ]
  },
  {
   "cell_type": "code",
   "execution_count": 19,
   "metadata": {},
   "outputs": [
    {
     "data": {
      "text/html": [
       "<table>\n",
       "<thead><tr><th scope=col>marka</th><th scope=col>zawartosc.alk</th><th scope=col>cena</th><th scope=col>dostepnosc</th><th scope=col>znajomosc</th><th scope=col>preferencje</th></tr></thead>\n",
       "<tbody>\n",
       "\t<tr><td>Zywiec    </td><td>-5.6      </td><td>-2.90     </td><td>1.90      </td><td>1.95      </td><td>2.65      </td></tr>\n",
       "\t<tr><td>Desperados</td><td>-6.0      </td><td>-4.15     </td><td>1.85      </td><td>1.77      </td><td>0.89      </td></tr>\n",
       "\t<tr><td>Kasztelan </td><td>-5.7      </td><td>-2.47     </td><td>1.80      </td><td>1.84      </td><td>2.17      </td></tr>\n",
       "\t<tr><td>Wojak     </td><td>-5.0      </td><td>-2.10     </td><td>0.45      </td><td>1.41      </td><td>0.38      </td></tr>\n",
       "\t<tr><td>Tyskie    </td><td>-5.6      </td><td>-2.53     </td><td>1.90      </td><td>1.93      </td><td>1.48      </td></tr>\n",
       "\t<tr><td>Heineken  </td><td>-5.0      </td><td>-3.64     </td><td>1.60      </td><td>1.90      </td><td>1.14      </td></tr>\n",
       "</tbody>\n",
       "</table>\n"
      ],
      "text/latex": [
       "\\begin{tabular}{r|llllll}\n",
       " marka & zawartosc.alk & cena & dostepnosc & znajomosc & preferencje\\\\\n",
       "\\hline\n",
       "\t Zywiec     & -5.6       & -2.90      & 1.90       & 1.95       & 2.65      \\\\\n",
       "\t Desperados & -6.0       & -4.15      & 1.85       & 1.77       & 0.89      \\\\\n",
       "\t Kasztelan  & -5.7       & -2.47      & 1.80       & 1.84       & 2.17      \\\\\n",
       "\t Wojak      & -5.0       & -2.10      & 0.45       & 1.41       & 0.38      \\\\\n",
       "\t Tyskie     & -5.6       & -2.53      & 1.90       & 1.93       & 1.48      \\\\\n",
       "\t Heineken   & -5.0       & -3.64      & 1.60       & 1.90       & 1.14      \\\\\n",
       "\\end{tabular}\n"
      ],
      "text/markdown": [
       "\n",
       "| marka | zawartosc.alk | cena | dostepnosc | znajomosc | preferencje |\n",
       "|---|---|---|---|---|---|\n",
       "| Zywiec     | -5.6       | -2.90      | 1.90       | 1.95       | 2.65       |\n",
       "| Desperados | -6.0       | -4.15      | 1.85       | 1.77       | 0.89       |\n",
       "| Kasztelan  | -5.7       | -2.47      | 1.80       | 1.84       | 2.17       |\n",
       "| Wojak      | -5.0       | -2.10      | 0.45       | 1.41       | 0.38       |\n",
       "| Tyskie     | -5.6       | -2.53      | 1.90       | 1.93       | 1.48       |\n",
       "| Heineken   | -5.0       | -3.64      | 1.60       | 1.90       | 1.14       |\n",
       "\n"
      ],
      "text/plain": [
       "  marka      zawartosc.alk cena  dostepnosc znajomosc preferencje\n",
       "1 Zywiec     -5.6          -2.90 1.90       1.95      2.65       \n",
       "2 Desperados -6.0          -4.15 1.85       1.77      0.89       \n",
       "3 Kasztelan  -5.7          -2.47 1.80       1.84      2.17       \n",
       "4 Wojak      -5.0          -2.10 0.45       1.41      0.38       \n",
       "5 Tyskie     -5.6          -2.53 1.90       1.93      1.48       \n",
       "6 Heineken   -5.0          -3.64 1.60       1.90      1.14       "
      ]
     },
     "metadata": {},
     "output_type": "display_data"
    }
   ],
   "source": [
    "piwo['cena'] = -1 * piwo['cena']\n",
    "piwo['zawartosc.alk'] = -1 * piwo['zawartosc.alk']\n",
    "\n",
    "head(piwo)"
   ]
  },
  {
   "cell_type": "markdown",
   "metadata": {},
   "source": [
    "<h3> Standaryzacja zmiennych </h3>"
   ]
  },
  {
   "cell_type": "code",
   "execution_count": 20,
   "metadata": {},
   "outputs": [
    {
     "data": {
      "text/html": [
       "<table>\n",
       "<thead><tr><th scope=col>marka</th><th scope=col>zawartosc.alk</th><th scope=col>cena</th><th scope=col>dostepnosc</th><th scope=col>znajomosc</th><th scope=col>preferencje</th></tr></thead>\n",
       "<tbody>\n",
       "\t<tr><td>Zywiec    </td><td> 0.2686614</td><td>-0.1171055</td><td> 1.0615536</td><td> 0.9929369</td><td> 2.7489254</td></tr>\n",
       "\t<tr><td>Desperados</td><td>-0.2824389</td><td>-2.0688642</td><td> 0.9559263</td><td> 0.3418307</td><td>-0.2137866</td></tr>\n",
       "\t<tr><td>Kasztelan </td><td> 0.1308863</td><td> 0.5542995</td><td> 0.8502991</td><td> 0.5950387</td><td> 1.9409130</td></tr>\n",
       "\t<tr><td>Wojak     </td><td> 1.0953117</td><td> 1.1320200</td><td>-2.0016358</td><td>-0.9603816</td><td>-1.0722997</td></tr>\n",
       "\t<tr><td>Tyskie    </td><td> 0.2686614</td><td> 0.4606150</td><td> 1.0615536</td><td> 0.9205917</td><td> 0.7793952</td></tr>\n",
       "\t<tr><td>Heineken  </td><td> 1.0953117</td><td>-1.2725466</td><td> 0.4277902</td><td> 0.8120740</td><td> 0.2070532</td></tr>\n",
       "</tbody>\n",
       "</table>\n"
      ],
      "text/latex": [
       "\\begin{tabular}{r|llllll}\n",
       " marka & zawartosc.alk & cena & dostepnosc & znajomosc & preferencje\\\\\n",
       "\\hline\n",
       "\t Zywiec     &  0.2686614 & -0.1171055 &  1.0615536 &  0.9929369 &  2.7489254\\\\\n",
       "\t Desperados & -0.2824389 & -2.0688642 &  0.9559263 &  0.3418307 & -0.2137866\\\\\n",
       "\t Kasztelan  &  0.1308863 &  0.5542995 &  0.8502991 &  0.5950387 &  1.9409130\\\\\n",
       "\t Wojak      &  1.0953117 &  1.1320200 & -2.0016358 & -0.9603816 & -1.0722997\\\\\n",
       "\t Tyskie     &  0.2686614 &  0.4606150 &  1.0615536 &  0.9205917 &  0.7793952\\\\\n",
       "\t Heineken   &  1.0953117 & -1.2725466 &  0.4277902 &  0.8120740 &  0.2070532\\\\\n",
       "\\end{tabular}\n"
      ],
      "text/markdown": [
       "\n",
       "| marka | zawartosc.alk | cena | dostepnosc | znajomosc | preferencje |\n",
       "|---|---|---|---|---|---|\n",
       "| Zywiec     |  0.2686614 | -0.1171055 |  1.0615536 |  0.9929369 |  2.7489254 |\n",
       "| Desperados | -0.2824389 | -2.0688642 |  0.9559263 |  0.3418307 | -0.2137866 |\n",
       "| Kasztelan  |  0.1308863 |  0.5542995 |  0.8502991 |  0.5950387 |  1.9409130 |\n",
       "| Wojak      |  1.0953117 |  1.1320200 | -2.0016358 | -0.9603816 | -1.0722997 |\n",
       "| Tyskie     |  0.2686614 |  0.4606150 |  1.0615536 |  0.9205917 |  0.7793952 |\n",
       "| Heineken   |  1.0953117 | -1.2725466 |  0.4277902 |  0.8120740 |  0.2070532 |\n",
       "\n"
      ],
      "text/plain": [
       "  marka      zawartosc.alk cena       dostepnosc znajomosc  preferencje\n",
       "1 Zywiec      0.2686614    -0.1171055  1.0615536  0.9929369  2.7489254 \n",
       "2 Desperados -0.2824389    -2.0688642  0.9559263  0.3418307 -0.2137866 \n",
       "3 Kasztelan   0.1308863     0.5542995  0.8502991  0.5950387  1.9409130 \n",
       "4 Wojak       1.0953117     1.1320200 -2.0016358 -0.9603816 -1.0722997 \n",
       "5 Tyskie      0.2686614     0.4606150  1.0615536  0.9205917  0.7793952 \n",
       "6 Heineken    1.0953117    -1.2725466  0.4277902  0.8120740  0.2070532 "
      ]
     },
     "metadata": {},
     "output_type": "display_data"
    }
   ],
   "source": [
    "piwo_std <- cbind(piwo[1], scale(piwo[2:6]))\n",
    "\n",
    "head(piwo_std)"
   ]
  },
  {
   "cell_type": "markdown",
   "metadata": {},
   "source": [
    "<h3> Wyznaczam wzorzec </h3>\n",
    "\n",
    "d+ najlepszy obiekt"
   ]
  },
  {
   "cell_type": "code",
   "execution_count": 21,
   "metadata": {},
   "outputs": [
    {
     "data": {
      "text/html": [
       "<ol class=list-inline>\n",
       "\t<li>1.7841870257415</li>\n",
       "\t<li>1.30377478845493</li>\n",
       "\t<li>1.06155356653928</li>\n",
       "\t<li>0.992936862954108</li>\n",
       "\t<li>2.74892535081768</li>\n",
       "</ol>\n"
      ],
      "text/latex": [
       "\\begin{enumerate*}\n",
       "\\item 1.7841870257415\n",
       "\\item 1.30377478845493\n",
       "\\item 1.06155356653928\n",
       "\\item 0.992936862954108\n",
       "\\item 2.74892535081768\n",
       "\\end{enumerate*}\n"
      ],
      "text/markdown": [
       "1. 1.7841870257415\n",
       "2. 1.30377478845493\n",
       "3. 1.06155356653928\n",
       "4. 0.992936862954108\n",
       "5. 2.74892535081768\n",
       "\n",
       "\n"
      ],
      "text/plain": [
       "[1] 1.7841870 1.3037748 1.0615536 0.9929369 2.7489254"
      ]
     },
     "metadata": {},
     "output_type": "display_data"
    }
   ],
   "source": [
    "wzorzec <- c()\n",
    "\n",
    "for (i in 2:6) {\n",
    "    wzorzec[i-1] <- max(piwo_std[,i])\n",
    "}\n",
    "wzorzec"
   ]
  },
  {
   "cell_type": "markdown",
   "metadata": {},
   "source": [
    "<h3> Odległość obiektu od wzorca </h3>"
   ]
  },
  {
   "cell_type": "code",
   "execution_count": 22,
   "metadata": {},
   "outputs": [
    {
     "data": {
      "text/html": [
       "<ol class=list-inline>\n",
       "\t<li>2.07743083485564</li>\n",
       "\t<li>4.98581935857243</li>\n",
       "\t<li>2.03738850139792</li>\n",
       "\t<li>5.32018722101927</li>\n",
       "\t<li>2.62526551518855</li>\n",
       "\t<li>3.74265451917171</li>\n",
       "\t<li>3.60187743947011</li>\n",
       "\t<li>4.33970966452138</li>\n",
       "\t<li>3.16736744149993</li>\n",
       "\t<li>2.9628375759523</li>\n",
       "\t<li>7.01080449472544</li>\n",
       "\t<li>3.8909072061983</li>\n",
       "\t<li>4.30348268988679</li>\n",
       "\t<li>4.15334451474808</li>\n",
       "\t<li>4.61115847074452</li>\n",
       "\t<li>4.81661072574306</li>\n",
       "\t<li>3.63030741975343</li>\n",
       "\t<li>5.83790537546998</li>\n",
       "\t<li>5.12332697779414</li>\n",
       "\t<li>5.9053396659793</li>\n",
       "</ol>\n"
      ],
      "text/latex": [
       "\\begin{enumerate*}\n",
       "\\item 2.07743083485564\n",
       "\\item 4.98581935857243\n",
       "\\item 2.03738850139792\n",
       "\\item 5.32018722101927\n",
       "\\item 2.62526551518855\n",
       "\\item 3.74265451917171\n",
       "\\item 3.60187743947011\n",
       "\\item 4.33970966452138\n",
       "\\item 3.16736744149993\n",
       "\\item 2.9628375759523\n",
       "\\item 7.01080449472544\n",
       "\\item 3.8909072061983\n",
       "\\item 4.30348268988679\n",
       "\\item 4.15334451474808\n",
       "\\item 4.61115847074452\n",
       "\\item 4.81661072574306\n",
       "\\item 3.63030741975343\n",
       "\\item 5.83790537546998\n",
       "\\item 5.12332697779414\n",
       "\\item 5.9053396659793\n",
       "\\end{enumerate*}\n"
      ],
      "text/markdown": [
       "1. 2.07743083485564\n",
       "2. 4.98581935857243\n",
       "3. 2.03738850139792\n",
       "4. 5.32018722101927\n",
       "5. 2.62526551518855\n",
       "6. 3.74265451917171\n",
       "7. 3.60187743947011\n",
       "8. 4.33970966452138\n",
       "9. 3.16736744149993\n",
       "10. 2.9628375759523\n",
       "11. 7.01080449472544\n",
       "12. 3.8909072061983\n",
       "13. 4.30348268988679\n",
       "14. 4.15334451474808\n",
       "15. 4.61115847074452\n",
       "16. 4.81661072574306\n",
       "17. 3.63030741975343\n",
       "18. 5.83790537546998\n",
       "19. 5.12332697779414\n",
       "20. 5.9053396659793\n",
       "\n",
       "\n"
      ],
      "text/plain": [
       " [1] 2.077431 4.985819 2.037389 5.320187 2.625266 3.742655 3.601877 4.339710\n",
       " [9] 3.167367 2.962838 7.010804 3.890907 4.303483 4.153345 4.611158 4.816611\n",
       "[17] 3.630307 5.837905 5.123327 5.905340"
      ]
     },
     "metadata": {},
     "output_type": "display_data"
    }
   ],
   "source": [
    "di0 <- c()\n",
    "\n",
    "for (i in 1:20) {\n",
    "    dane <- rbind(piwo_std[i,(2:6)], wzorzec)\n",
    "    odleglosc <- dist(dane)\n",
    "    di0[i] = odleglosc\n",
    "}\n",
    "\n",
    "di0"
   ]
  },
  {
   "cell_type": "markdown",
   "metadata": {},
   "source": [
    "<h3> Liczę d0 - odległość maksymalna / odleglosc mozliwe daleka? </h3>\n"
   ]
  },
  {
   "cell_type": "code",
   "execution_count": 23,
   "metadata": {},
   "outputs": [],
   "source": [
    "d0 = mean(di0) + 2 * sd(di0)"
   ]
  },
  {
   "cell_type": "code",
   "execution_count": 24,
   "metadata": {},
   "outputs": [
    {
     "data": {
      "text/html": [
       "<table>\n",
       "<thead><tr><th></th><th scope=col>marka</th><th scope=col>zawartosc.alk</th><th scope=col>cena</th><th scope=col>dostepnosc</th><th scope=col>znajomosc</th><th scope=col>preferencje</th><th scope=col>wsk_hellwiga</th></tr></thead>\n",
       "<tbody>\n",
       "\t<tr><th scope=row>3</th><td>Kasztelan   </td><td> 0.1308863  </td><td> 0.554299461</td><td> 0.850299125</td><td> 0.59503867 </td><td> 1.940913000</td><td> 0.70058082 </td></tr>\n",
       "\t<tr><th scope=row>1</th><td>Zywiec      </td><td> 0.2686614  </td><td>-0.117105520</td><td> 1.061553567</td><td> 0.99293686 </td><td> 2.748925351</td><td> 0.69469611 </td></tr>\n",
       "\t<tr><th scope=row>5</th><td>Tyskie      </td><td> 0.2686614  </td><td> 0.460615045</td><td> 1.061553567</td><td> 0.92059174 </td><td> 0.779395246</td><td> 0.61418510 </td></tr>\n",
       "\t<tr><th scope=row>10</th><td>Perła       </td><td>-0.2824389  </td><td> 0.413772837</td><td> 0.322163023</td><td> 0.41417585 </td><td> 1.065566287</td><td> 0.56457475 </td></tr>\n",
       "\t<tr><th scope=row>9</th><td>Lech        </td><td> 0.8197616  </td><td> 0.007807035</td><td> 0.850299125</td><td> 0.81207405 </td><td> 0.038717258</td><td> 0.53451658 </td></tr>\n",
       "\t<tr><th scope=row>7</th><td>Warka       </td><td> 0.1308863  </td><td> 0.366930629</td><td>-0.417227521</td><td> 0.88441917 </td><td> 0.072384440</td><td> 0.47066002 </td></tr>\n",
       "\t<tr><th scope=row>17</th><td>Harnas      </td><td>-0.2824389  </td><td> 1.303774788</td><td> 0.533417464</td><td>-0.05606747 </td><td> 0.005050077</td><td> 0.46648189 </td></tr>\n",
       "\t<tr><th scope=row>6</th><td>Heineken    </td><td> 1.0953117  </td><td>-1.272546650</td><td> 0.427790243</td><td> 0.81207405 </td><td> 0.207053165</td><td> 0.44997111 </td></tr>\n",
       "\t<tr><th scope=row>12</th><td>Żubr        </td><td>-0.2824389  </td><td> 0.523071322</td><td> 0.216535802</td><td> 0.59503867 </td><td>-0.314788145</td><td> 0.42818356 </td></tr>\n",
       "\t<tr><th scope=row>14</th><td>Carlsberg   </td><td>-0.2824389  </td><td>-0.538685392</td><td> 0.955926346</td><td> 0.70355636 </td><td>-0.331621736</td><td> 0.38961518 </td></tr>\n",
       "\t<tr><th scope=row>13</th><td>Redds       </td><td> 1.7841870  </td><td>-1.631670244</td><td> 0.005281361</td><td> 0.05245022 </td><td>-0.062284285</td><td> 0.36755054 </td></tr>\n",
       "\t<tr><th scope=row>8</th><td>Łomża       </td><td>-0.2824389  </td><td> 0.351316560</td><td>-0.628481962</td><td>-0.05606747 </td><td>-0.365288917</td><td> 0.36222654 </td></tr>\n",
       "\t<tr><th scope=row>15</th><td>Somersby    </td><td> 1.7841870  </td><td>-1.897109423</td><td>-0.205973080</td><td>-0.30927542 </td><td>-0.028617104</td><td> 0.32233382 </td></tr>\n",
       "\t<tr><th scope=row>16</th><td>Tatra_Pils  </td><td>-0.2824389  </td><td> 1.288160719</td><td> 0.110908582</td><td>-1.35827975 </td><td>-0.786128683</td><td> 0.29214009 </td></tr>\n",
       "\t<tr><th scope=row>2</th><td>Desperados  </td><td>-0.2824389  </td><td>-2.068864185</td><td> 0.955926346</td><td> 0.34183072 </td><td>-0.213786601</td><td> 0.26727281 </td></tr>\n",
       "\t<tr><th scope=row>19</th><td>Okocim_mocne</td><td>-1.7979645  </td><td> 0.179561797</td><td>-0.205973080</td><td> 0.34183072 </td><td>-0.432623279</td><td> 0.24706439 </td></tr>\n",
       "\t<tr><th scope=row>4</th><td>Wojak       </td><td> 1.0953117  </td><td> 1.132020026</td><td>-2.001635829</td><td>-0.96038156 </td><td>-1.072299723</td><td> 0.21813336 </td></tr>\n",
       "\t<tr><th scope=row>18</th><td>Tatra_mocne </td><td>-1.6601895  </td><td> 0.320088421</td><td>-0.628481962</td><td>-0.85186387 </td><td>-1.122800495</td><td> 0.14204834 </td></tr>\n",
       "\t<tr><th scope=row>20</th><td>Debowe_mocne</td><td>-1.6601895  </td><td>-0.101491451</td><td>-0.522854742</td><td>-0.85186387 </td><td>-1.139634086</td><td> 0.13213805 </td></tr>\n",
       "\t<tr><th scope=row>11</th><td>Specjal     </td><td>-0.2824389  </td><td> 0.726054224</td><td>-2.741026373</td><td>-3.02221766 </td><td>-0.988131770</td><td>-0.03032354 </td></tr>\n",
       "</tbody>\n",
       "</table>\n"
      ],
      "text/latex": [
       "\\begin{tabular}{r|lllllll}\n",
       "  & marka & zawartosc.alk & cena & dostepnosc & znajomosc & preferencje & wsk\\_hellwiga\\\\\n",
       "\\hline\n",
       "\t3 & Kasztelan    &  0.1308863   &  0.554299461 &  0.850299125 &  0.59503867  &  1.940913000 &  0.70058082 \\\\\n",
       "\t1 & Zywiec       &  0.2686614   & -0.117105520 &  1.061553567 &  0.99293686  &  2.748925351 &  0.69469611 \\\\\n",
       "\t5 & Tyskie       &  0.2686614   &  0.460615045 &  1.061553567 &  0.92059174  &  0.779395246 &  0.61418510 \\\\\n",
       "\t10 & Perła        & -0.2824389   &  0.413772837 &  0.322163023 &  0.41417585  &  1.065566287 &  0.56457475 \\\\\n",
       "\t9 & Lech         &  0.8197616   &  0.007807035 &  0.850299125 &  0.81207405  &  0.038717258 &  0.53451658 \\\\\n",
       "\t7 & Warka        &  0.1308863   &  0.366930629 & -0.417227521 &  0.88441917  &  0.072384440 &  0.47066002 \\\\\n",
       "\t17 & Harnas       & -0.2824389   &  1.303774788 &  0.533417464 & -0.05606747  &  0.005050077 &  0.46648189 \\\\\n",
       "\t6 & Heineken     &  1.0953117   & -1.272546650 &  0.427790243 &  0.81207405  &  0.207053165 &  0.44997111 \\\\\n",
       "\t12 & Żubr         & -0.2824389   &  0.523071322 &  0.216535802 &  0.59503867  & -0.314788145 &  0.42818356 \\\\\n",
       "\t14 & Carlsberg    & -0.2824389   & -0.538685392 &  0.955926346 &  0.70355636  & -0.331621736 &  0.38961518 \\\\\n",
       "\t13 & Redds        &  1.7841870   & -1.631670244 &  0.005281361 &  0.05245022  & -0.062284285 &  0.36755054 \\\\\n",
       "\t8 & Łomża        & -0.2824389   &  0.351316560 & -0.628481962 & -0.05606747  & -0.365288917 &  0.36222654 \\\\\n",
       "\t15 & Somersby     &  1.7841870   & -1.897109423 & -0.205973080 & -0.30927542  & -0.028617104 &  0.32233382 \\\\\n",
       "\t16 & Tatra\\_Pils   & -0.2824389     &  1.288160719   &  0.110908582   & -1.35827975    & -0.786128683   &  0.29214009   \\\\\n",
       "\t2 & Desperados   & -0.2824389   & -2.068864185 &  0.955926346 &  0.34183072  & -0.213786601 &  0.26727281 \\\\\n",
       "\t19 & Okocim\\_mocne & -1.7979645     &  0.179561797   & -0.205973080   &  0.34183072    & -0.432623279   &  0.24706439   \\\\\n",
       "\t4 & Wojak        &  1.0953117   &  1.132020026 & -2.001635829 & -0.96038156  & -1.072299723 &  0.21813336 \\\\\n",
       "\t18 & Tatra\\_mocne  & -1.6601895     &  0.320088421   & -0.628481962   & -0.85186387    & -1.122800495   &  0.14204834   \\\\\n",
       "\t20 & Debowe\\_mocne & -1.6601895     & -0.101491451   & -0.522854742   & -0.85186387    & -1.139634086   &  0.13213805   \\\\\n",
       "\t11 & Specjal      & -0.2824389   &  0.726054224 & -2.741026373 & -3.02221766  & -0.988131770 & -0.03032354 \\\\\n",
       "\\end{tabular}\n"
      ],
      "text/markdown": [
       "\n",
       "| <!--/--> | marka | zawartosc.alk | cena | dostepnosc | znajomosc | preferencje | wsk_hellwiga |\n",
       "|---|---|---|---|---|---|---|---|\n",
       "| 3 | Kasztelan    |  0.1308863   |  0.554299461 |  0.850299125 |  0.59503867  |  1.940913000 |  0.70058082  |\n",
       "| 1 | Zywiec       |  0.2686614   | -0.117105520 |  1.061553567 |  0.99293686  |  2.748925351 |  0.69469611  |\n",
       "| 5 | Tyskie       |  0.2686614   |  0.460615045 |  1.061553567 |  0.92059174  |  0.779395246 |  0.61418510  |\n",
       "| 10 | Perła        | -0.2824389   |  0.413772837 |  0.322163023 |  0.41417585  |  1.065566287 |  0.56457475  |\n",
       "| 9 | Lech         |  0.8197616   |  0.007807035 |  0.850299125 |  0.81207405  |  0.038717258 |  0.53451658  |\n",
       "| 7 | Warka        |  0.1308863   |  0.366930629 | -0.417227521 |  0.88441917  |  0.072384440 |  0.47066002  |\n",
       "| 17 | Harnas       | -0.2824389   |  1.303774788 |  0.533417464 | -0.05606747  |  0.005050077 |  0.46648189  |\n",
       "| 6 | Heineken     |  1.0953117   | -1.272546650 |  0.427790243 |  0.81207405  |  0.207053165 |  0.44997111  |\n",
       "| 12 | Żubr         | -0.2824389   |  0.523071322 |  0.216535802 |  0.59503867  | -0.314788145 |  0.42818356  |\n",
       "| 14 | Carlsberg    | -0.2824389   | -0.538685392 |  0.955926346 |  0.70355636  | -0.331621736 |  0.38961518  |\n",
       "| 13 | Redds        |  1.7841870   | -1.631670244 |  0.005281361 |  0.05245022  | -0.062284285 |  0.36755054  |\n",
       "| 8 | Łomża        | -0.2824389   |  0.351316560 | -0.628481962 | -0.05606747  | -0.365288917 |  0.36222654  |\n",
       "| 15 | Somersby     |  1.7841870   | -1.897109423 | -0.205973080 | -0.30927542  | -0.028617104 |  0.32233382  |\n",
       "| 16 | Tatra_Pils   | -0.2824389   |  1.288160719 |  0.110908582 | -1.35827975  | -0.786128683 |  0.29214009  |\n",
       "| 2 | Desperados   | -0.2824389   | -2.068864185 |  0.955926346 |  0.34183072  | -0.213786601 |  0.26727281  |\n",
       "| 19 | Okocim_mocne | -1.7979645   |  0.179561797 | -0.205973080 |  0.34183072  | -0.432623279 |  0.24706439  |\n",
       "| 4 | Wojak        |  1.0953117   |  1.132020026 | -2.001635829 | -0.96038156  | -1.072299723 |  0.21813336  |\n",
       "| 18 | Tatra_mocne  | -1.6601895   |  0.320088421 | -0.628481962 | -0.85186387  | -1.122800495 |  0.14204834  |\n",
       "| 20 | Debowe_mocne | -1.6601895   | -0.101491451 | -0.522854742 | -0.85186387  | -1.139634086 |  0.13213805  |\n",
       "| 11 | Specjal      | -0.2824389   |  0.726054224 | -2.741026373 | -3.02221766  | -0.988131770 | -0.03032354  |\n",
       "\n"
      ],
      "text/plain": [
       "   marka        zawartosc.alk cena         dostepnosc   znajomosc  \n",
       "3  Kasztelan     0.1308863     0.554299461  0.850299125  0.59503867\n",
       "1  Zywiec        0.2686614    -0.117105520  1.061553567  0.99293686\n",
       "5  Tyskie        0.2686614     0.460615045  1.061553567  0.92059174\n",
       "10 Perła        -0.2824389     0.413772837  0.322163023  0.41417585\n",
       "9  Lech          0.8197616     0.007807035  0.850299125  0.81207405\n",
       "7  Warka         0.1308863     0.366930629 -0.417227521  0.88441917\n",
       "17 Harnas       -0.2824389     1.303774788  0.533417464 -0.05606747\n",
       "6  Heineken      1.0953117    -1.272546650  0.427790243  0.81207405\n",
       "12 Żubr         -0.2824389     0.523071322  0.216535802  0.59503867\n",
       "14 Carlsberg    -0.2824389    -0.538685392  0.955926346  0.70355636\n",
       "13 Redds         1.7841870    -1.631670244  0.005281361  0.05245022\n",
       "8  Łomża        -0.2824389     0.351316560 -0.628481962 -0.05606747\n",
       "15 Somersby      1.7841870    -1.897109423 -0.205973080 -0.30927542\n",
       "16 Tatra_Pils   -0.2824389     1.288160719  0.110908582 -1.35827975\n",
       "2  Desperados   -0.2824389    -2.068864185  0.955926346  0.34183072\n",
       "19 Okocim_mocne -1.7979645     0.179561797 -0.205973080  0.34183072\n",
       "4  Wojak         1.0953117     1.132020026 -2.001635829 -0.96038156\n",
       "18 Tatra_mocne  -1.6601895     0.320088421 -0.628481962 -0.85186387\n",
       "20 Debowe_mocne -1.6601895    -0.101491451 -0.522854742 -0.85186387\n",
       "11 Specjal      -0.2824389     0.726054224 -2.741026373 -3.02221766\n",
       "   preferencje  wsk_hellwiga\n",
       "3   1.940913000  0.70058082 \n",
       "1   2.748925351  0.69469611 \n",
       "5   0.779395246  0.61418510 \n",
       "10  1.065566287  0.56457475 \n",
       "9   0.038717258  0.53451658 \n",
       "7   0.072384440  0.47066002 \n",
       "17  0.005050077  0.46648189 \n",
       "6   0.207053165  0.44997111 \n",
       "12 -0.314788145  0.42818356 \n",
       "14 -0.331621736  0.38961518 \n",
       "13 -0.062284285  0.36755054 \n",
       "8  -0.365288917  0.36222654 \n",
       "15 -0.028617104  0.32233382 \n",
       "16 -0.786128683  0.29214009 \n",
       "2  -0.213786601  0.26727281 \n",
       "19 -0.432623279  0.24706439 \n",
       "4  -1.072299723  0.21813336 \n",
       "18 -1.122800495  0.14204834 \n",
       "20 -1.139634086  0.13213805 \n",
       "11 -0.988131770 -0.03032354 "
      ]
     },
     "metadata": {},
     "output_type": "display_data"
    }
   ],
   "source": [
    "wsk_hellwiga <- 1-di0/d0\n",
    "\n",
    "ranking <- cbind(piwo_std, wsk_hellwiga)\n",
    "ranking <- ranking[order(-ranking$wsk_hellwiga),]\n",
    "ranking"
   ]
  },
  {
   "cell_type": "code",
   "execution_count": null,
   "metadata": {},
   "outputs": [],
   "source": []
  }
 ],
 "metadata": {
  "kernelspec": {
   "display_name": "R",
   "language": "R",
   "name": "ir"
  },
  "language_info": {
   "codemirror_mode": "r",
   "file_extension": ".r",
   "mimetype": "text/x-r-source",
   "name": "R",
   "pygments_lexer": "r",
   "version": "3.6.1"
  }
 },
 "nbformat": 4,
 "nbformat_minor": 2
}
