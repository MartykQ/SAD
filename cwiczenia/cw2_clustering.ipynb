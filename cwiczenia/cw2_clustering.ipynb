{
 "cells": [
  {
   "cell_type": "markdown",
   "metadata": {},
   "source": [
    "# Cwiczenia 2\n",
    "\n",
    "1. Wybor .. i formalny\n",
    "    |cor()| < 0.9 i wsp. zmiennosci > 0.1"
   ]
  },
  {
   "cell_type": "code",
   "execution_count": 297,
   "metadata": {},
   "outputs": [],
   "source": [
    "library('cluster')\n"
   ]
  },
  {
   "cell_type": "code",
   "execution_count": 298,
   "metadata": {},
   "outputs": [],
   "source": [
    "piwo = read.csv(file = \"piwo.csv\",  header = TRUE, sep = \";\", stringsAsFactors = FALSE)"
   ]
  },
  {
   "cell_type": "code",
   "execution_count": 299,
   "metadata": {},
   "outputs": [
    {
     "data": {
      "text/html": [
       "<table>\n",
       "<thead><tr><th></th><th scope=col>zawartosc.alk</th><th scope=col>cena</th><th scope=col>dostepnosc</th><th scope=col>znajomosc</th><th scope=col>preferencje</th></tr></thead>\n",
       "<tbody>\n",
       "\t<tr><th scope=row>Zywiec</th><td>5.6 </td><td>2.90</td><td>1.90</td><td>1.95</td><td>2.65</td></tr>\n",
       "\t<tr><th scope=row>Desperados</th><td>6.0 </td><td>4.15</td><td>1.85</td><td>1.77</td><td>0.89</td></tr>\n",
       "\t<tr><th scope=row>Kasztelan</th><td>5.7 </td><td>2.47</td><td>1.80</td><td>1.84</td><td>2.17</td></tr>\n",
       "\t<tr><th scope=row>Wojak</th><td>5.0 </td><td>2.10</td><td>0.45</td><td>1.41</td><td>0.38</td></tr>\n",
       "\t<tr><th scope=row>Tyskie</th><td>5.6 </td><td>2.53</td><td>1.90</td><td>1.93</td><td>1.48</td></tr>\n",
       "\t<tr><th scope=row>Heineken</th><td>5.0 </td><td>3.64</td><td>1.60</td><td>1.90</td><td>1.14</td></tr>\n",
       "\t<tr><th scope=row>Warka</th><td>5.7 </td><td>2.59</td><td>1.20</td><td>1.92</td><td>1.06</td></tr>\n",
       "\t<tr><th scope=row>Łomża</th><td>6.0 </td><td>2.60</td><td>1.10</td><td>1.66</td><td>0.80</td></tr>\n",
       "\t<tr><th scope=row>Lech</th><td>5.2 </td><td>2.82</td><td>1.80</td><td>1.90</td><td>1.04</td></tr>\n",
       "\t<tr><th scope=row>Perła</th><td>6.0 </td><td>2.56</td><td>1.55</td><td>1.79</td><td>1.65</td></tr>\n",
       "\t<tr><th scope=row>Specjal</th><td>6.0 </td><td>2.36</td><td>0.10</td><td>0.84</td><td>0.43</td></tr>\n",
       "\t<tr><th scope=row>Żubr</th><td>6.0 </td><td>2.49</td><td>1.50</td><td>1.84</td><td>0.83</td></tr>\n",
       "\t<tr><th scope=row>Redds</th><td>4.5 </td><td>3.87</td><td>1.40</td><td>1.69</td><td>0.98</td></tr>\n",
       "\t<tr><th scope=row>Carlsberg</th><td>6.0 </td><td>3.17</td><td>1.85</td><td>1.87</td><td>0.82</td></tr>\n",
       "\t<tr><th scope=row>Somersby</th><td>4.5 </td><td>4.04</td><td>1.30</td><td>1.59</td><td>1.00</td></tr>\n",
       "\t<tr><th scope=row>Tatra_Pils</th><td>6.0 </td><td>2.00</td><td>1.45</td><td>1.30</td><td>0.55</td></tr>\n",
       "\t<tr><th scope=row>Harnas</th><td>6.0 </td><td>1.99</td><td>1.65</td><td>1.66</td><td>1.02</td></tr>\n",
       "\t<tr><th scope=row>Tatra_mocne</th><td>7.0 </td><td>2.62</td><td>1.10</td><td>1.44</td><td>0.35</td></tr>\n",
       "\t<tr><th scope=row>Okocim_mocne</th><td>7.1 </td><td>2.71</td><td>1.30</td><td>1.77</td><td>0.76</td></tr>\n",
       "\t<tr><th scope=row>Debowe_mocne</th><td>7.0 </td><td>2.89</td><td>1.15</td><td>1.44</td><td>0.34</td></tr>\n",
       "</tbody>\n",
       "</table>\n"
      ],
      "text/latex": [
       "\\begin{tabular}{r|lllll}\n",
       "  & zawartosc.alk & cena & dostepnosc & znajomosc & preferencje\\\\\n",
       "\\hline\n",
       "\tZywiec & 5.6  & 2.90 & 1.90 & 1.95 & 2.65\\\\\n",
       "\tDesperados & 6.0  & 4.15 & 1.85 & 1.77 & 0.89\\\\\n",
       "\tKasztelan & 5.7  & 2.47 & 1.80 & 1.84 & 2.17\\\\\n",
       "\tWojak & 5.0  & 2.10 & 0.45 & 1.41 & 0.38\\\\\n",
       "\tTyskie & 5.6  & 2.53 & 1.90 & 1.93 & 1.48\\\\\n",
       "\tHeineken & 5.0  & 3.64 & 1.60 & 1.90 & 1.14\\\\\n",
       "\tWarka & 5.7  & 2.59 & 1.20 & 1.92 & 1.06\\\\\n",
       "\tŁomża & 6.0  & 2.60 & 1.10 & 1.66 & 0.80\\\\\n",
       "\tLech & 5.2  & 2.82 & 1.80 & 1.90 & 1.04\\\\\n",
       "\tPerła & 6.0  & 2.56 & 1.55 & 1.79 & 1.65\\\\\n",
       "\tSpecjal & 6.0  & 2.36 & 0.10 & 0.84 & 0.43\\\\\n",
       "\tŻubr & 6.0  & 2.49 & 1.50 & 1.84 & 0.83\\\\\n",
       "\tRedds & 4.5  & 3.87 & 1.40 & 1.69 & 0.98\\\\\n",
       "\tCarlsberg & 6.0  & 3.17 & 1.85 & 1.87 & 0.82\\\\\n",
       "\tSomersby & 4.5  & 4.04 & 1.30 & 1.59 & 1.00\\\\\n",
       "\tTatra\\_Pils & 6.0  & 2.00 & 1.45 & 1.30 & 0.55\\\\\n",
       "\tHarnas & 6.0  & 1.99 & 1.65 & 1.66 & 1.02\\\\\n",
       "\tTatra\\_mocne & 7.0  & 2.62 & 1.10 & 1.44 & 0.35\\\\\n",
       "\tOkocim\\_mocne & 7.1  & 2.71 & 1.30 & 1.77 & 0.76\\\\\n",
       "\tDebowe\\_mocne & 7.0  & 2.89 & 1.15 & 1.44 & 0.34\\\\\n",
       "\\end{tabular}\n"
      ],
      "text/markdown": [
       "\n",
       "| <!--/--> | zawartosc.alk | cena | dostepnosc | znajomosc | preferencje |\n",
       "|---|---|---|---|---|---|\n",
       "| Zywiec | 5.6  | 2.90 | 1.90 | 1.95 | 2.65 |\n",
       "| Desperados | 6.0  | 4.15 | 1.85 | 1.77 | 0.89 |\n",
       "| Kasztelan | 5.7  | 2.47 | 1.80 | 1.84 | 2.17 |\n",
       "| Wojak | 5.0  | 2.10 | 0.45 | 1.41 | 0.38 |\n",
       "| Tyskie | 5.6  | 2.53 | 1.90 | 1.93 | 1.48 |\n",
       "| Heineken | 5.0  | 3.64 | 1.60 | 1.90 | 1.14 |\n",
       "| Warka | 5.7  | 2.59 | 1.20 | 1.92 | 1.06 |\n",
       "| Łomża | 6.0  | 2.60 | 1.10 | 1.66 | 0.80 |\n",
       "| Lech | 5.2  | 2.82 | 1.80 | 1.90 | 1.04 |\n",
       "| Perła | 6.0  | 2.56 | 1.55 | 1.79 | 1.65 |\n",
       "| Specjal | 6.0  | 2.36 | 0.10 | 0.84 | 0.43 |\n",
       "| Żubr | 6.0  | 2.49 | 1.50 | 1.84 | 0.83 |\n",
       "| Redds | 4.5  | 3.87 | 1.40 | 1.69 | 0.98 |\n",
       "| Carlsberg | 6.0  | 3.17 | 1.85 | 1.87 | 0.82 |\n",
       "| Somersby | 4.5  | 4.04 | 1.30 | 1.59 | 1.00 |\n",
       "| Tatra_Pils | 6.0  | 2.00 | 1.45 | 1.30 | 0.55 |\n",
       "| Harnas | 6.0  | 1.99 | 1.65 | 1.66 | 1.02 |\n",
       "| Tatra_mocne | 7.0  | 2.62 | 1.10 | 1.44 | 0.35 |\n",
       "| Okocim_mocne | 7.1  | 2.71 | 1.30 | 1.77 | 0.76 |\n",
       "| Debowe_mocne | 7.0  | 2.89 | 1.15 | 1.44 | 0.34 |\n",
       "\n"
      ],
      "text/plain": [
       "             zawartosc.alk cena dostepnosc znajomosc preferencje\n",
       "Zywiec       5.6           2.90 1.90       1.95      2.65       \n",
       "Desperados   6.0           4.15 1.85       1.77      0.89       \n",
       "Kasztelan    5.7           2.47 1.80       1.84      2.17       \n",
       "Wojak        5.0           2.10 0.45       1.41      0.38       \n",
       "Tyskie       5.6           2.53 1.90       1.93      1.48       \n",
       "Heineken     5.0           3.64 1.60       1.90      1.14       \n",
       "Warka        5.7           2.59 1.20       1.92      1.06       \n",
       "Łomża        6.0           2.60 1.10       1.66      0.80       \n",
       "Lech         5.2           2.82 1.80       1.90      1.04       \n",
       "Perła        6.0           2.56 1.55       1.79      1.65       \n",
       "Specjal      6.0           2.36 0.10       0.84      0.43       \n",
       "Żubr         6.0           2.49 1.50       1.84      0.83       \n",
       "Redds        4.5           3.87 1.40       1.69      0.98       \n",
       "Carlsberg    6.0           3.17 1.85       1.87      0.82       \n",
       "Somersby     4.5           4.04 1.30       1.59      1.00       \n",
       "Tatra_Pils   6.0           2.00 1.45       1.30      0.55       \n",
       "Harnas       6.0           1.99 1.65       1.66      1.02       \n",
       "Tatra_mocne  7.0           2.62 1.10       1.44      0.35       \n",
       "Okocim_mocne 7.1           2.71 1.30       1.77      0.76       \n",
       "Debowe_mocne 7.0           2.89 1.15       1.44      0.34       "
      ]
     },
     "metadata": {},
     "output_type": "display_data"
    }
   ],
   "source": [
    "rownames(piwo) <- piwo[,1]\n",
    "piwo <- piwo[,(2:6)]\n",
    "piwo"
   ]
  },
  {
   "cell_type": "markdown",
   "metadata": {},
   "source": [
    "### korelacje < 0.9"
   ]
  },
  {
   "cell_type": "code",
   "execution_count": 300,
   "metadata": {},
   "outputs": [
    {
     "data": {
      "text/html": [
       "<table>\n",
       "<thead><tr><th></th><th scope=col>zawartosc.alk</th><th scope=col>cena</th><th scope=col>dostepnosc</th><th scope=col>znajomosc</th><th scope=col>preferencje</th></tr></thead>\n",
       "<tbody>\n",
       "\t<tr><th scope=row>zawartosc.alk</th><td> 1.00000000</td><td>-0.39373158</td><td>-0.08429133</td><td>-0.1923831 </td><td>-0.27431833</td></tr>\n",
       "\t<tr><th scope=row>cena</th><td>-0.39373158</td><td> 1.00000000</td><td> 0.29170391</td><td> 0.2850610 </td><td> 0.07672186</td></tr>\n",
       "\t<tr><th scope=row>dostepnosc</th><td>-0.08429133</td><td> 0.29170391</td><td> 1.00000000</td><td> 0.8159535 </td><td> 0.61247555</td></tr>\n",
       "\t<tr><th scope=row>znajomosc</th><td>-0.19238305</td><td> 0.28506097</td><td> 0.81595351</td><td> 1.0000000 </td><td> 0.61591023</td></tr>\n",
       "\t<tr><th scope=row>preferencje</th><td>-0.27431833</td><td> 0.07672186</td><td> 0.61247555</td><td> 0.6159102 </td><td> 1.00000000</td></tr>\n",
       "</tbody>\n",
       "</table>\n"
      ],
      "text/latex": [
       "\\begin{tabular}{r|lllll}\n",
       "  & zawartosc.alk & cena & dostepnosc & znajomosc & preferencje\\\\\n",
       "\\hline\n",
       "\tzawartosc.alk &  1.00000000 & -0.39373158 & -0.08429133 & -0.1923831  & -0.27431833\\\\\n",
       "\tcena & -0.39373158 &  1.00000000 &  0.29170391 &  0.2850610  &  0.07672186\\\\\n",
       "\tdostepnosc & -0.08429133 &  0.29170391 &  1.00000000 &  0.8159535  &  0.61247555\\\\\n",
       "\tznajomosc & -0.19238305 &  0.28506097 &  0.81595351 &  1.0000000  &  0.61591023\\\\\n",
       "\tpreferencje & -0.27431833 &  0.07672186 &  0.61247555 &  0.6159102  &  1.00000000\\\\\n",
       "\\end{tabular}\n"
      ],
      "text/markdown": [
       "\n",
       "| <!--/--> | zawartosc.alk | cena | dostepnosc | znajomosc | preferencje |\n",
       "|---|---|---|---|---|---|\n",
       "| zawartosc.alk |  1.00000000 | -0.39373158 | -0.08429133 | -0.1923831  | -0.27431833 |\n",
       "| cena | -0.39373158 |  1.00000000 |  0.29170391 |  0.2850610  |  0.07672186 |\n",
       "| dostepnosc | -0.08429133 |  0.29170391 |  1.00000000 |  0.8159535  |  0.61247555 |\n",
       "| znajomosc | -0.19238305 |  0.28506097 |  0.81595351 |  1.0000000  |  0.61591023 |\n",
       "| preferencje | -0.27431833 |  0.07672186 |  0.61247555 |  0.6159102  |  1.00000000 |\n",
       "\n"
      ],
      "text/plain": [
       "              zawartosc.alk cena        dostepnosc  znajomosc  preferencje\n",
       "zawartosc.alk  1.00000000   -0.39373158 -0.08429133 -0.1923831 -0.27431833\n",
       "cena          -0.39373158    1.00000000  0.29170391  0.2850610  0.07672186\n",
       "dostepnosc    -0.08429133    0.29170391  1.00000000  0.8159535  0.61247555\n",
       "znajomosc     -0.19238305    0.28506097  0.81595351  1.0000000  0.61591023\n",
       "preferencje   -0.27431833    0.07672186  0.61247555  0.6159102  1.00000000"
      ]
     },
     "metadata": {},
     "output_type": "display_data"
    }
   ],
   "source": [
    "cor(piwo)"
   ]
  },
  {
   "cell_type": "markdown",
   "metadata": {},
   "source": [
    "### wsp_zmiennosci"
   ]
  },
  {
   "cell_type": "code",
   "execution_count": 301,
   "metadata": {},
   "outputs": [
    {
     "name": "stdout",
     "output_type": "stream",
     "text": [
      "[1] 0.1252495\n",
      "[1] 0.2267073\n",
      "[1] 0.3387212\n",
      "[1] 0.1649971\n",
      "[1] 0.5841203\n"
     ]
    }
   ],
   "source": [
    "for (i in 1:5) {\n",
    "    wsp_zmien <- sd(piwo[,i])/mean(piwo[,i])\n",
    "    print(wsp_zmien)\n",
    "}"
   ]
  },
  {
   "cell_type": "markdown",
   "metadata": {},
   "source": [
    "### Test na outliery <- test glubsa\n",
    "### Standaryzacja + reguła 3 sigm\n",
    "\n",
    "Pakiet clusterSim -> data.Normalization()\n",
    "\n"
   ]
  },
  {
   "cell_type": "code",
   "execution_count": 302,
   "metadata": {},
   "outputs": [
    {
     "data": {
      "text/html": [
       "<table>\n",
       "<thead><tr><th></th><th scope=col>zawartosc.alk</th><th scope=col>cena</th><th scope=col>dostepnosc</th><th scope=col>znajomosc</th><th scope=col>preferencje</th></tr></thead>\n",
       "<tbody>\n",
       "\t<tr><th scope=row>Zywiec</th><td>-0.2686614  </td><td> 0.117105520</td><td> 1.061553567</td><td> 0.99293686 </td><td> 2.748925351</td></tr>\n",
       "\t<tr><th scope=row>Desperados</th><td> 0.2824389  </td><td> 2.068864185</td><td> 0.955926346</td><td> 0.34183072 </td><td>-0.213786601</td></tr>\n",
       "\t<tr><th scope=row>Kasztelan</th><td>-0.1308863  </td><td>-0.554299461</td><td> 0.850299125</td><td> 0.59503867 </td><td> 1.940913000</td></tr>\n",
       "\t<tr><th scope=row>Wojak</th><td>-1.0953117  </td><td>-1.132020026</td><td>-2.001635829</td><td>-0.96038156 </td><td>-1.072299723</td></tr>\n",
       "\t<tr><th scope=row>Tyskie</th><td>-0.2686614  </td><td>-0.460615045</td><td> 1.061553567</td><td> 0.92059174 </td><td> 0.779395246</td></tr>\n",
       "\t<tr><th scope=row>Heineken</th><td>-1.0953117  </td><td> 1.272546650</td><td> 0.427790243</td><td> 0.81207405 </td><td> 0.207053165</td></tr>\n",
       "\t<tr><th scope=row>Warka</th><td>-0.1308863  </td><td>-0.366930629</td><td>-0.417227521</td><td> 0.88441917 </td><td> 0.072384440</td></tr>\n",
       "\t<tr><th scope=row>Łomża</th><td> 0.2824389  </td><td>-0.351316560</td><td>-0.628481962</td><td>-0.05606747 </td><td>-0.365288917</td></tr>\n",
       "\t<tr><th scope=row>Lech</th><td>-0.8197616  </td><td>-0.007807035</td><td> 0.850299125</td><td> 0.81207405 </td><td> 0.038717258</td></tr>\n",
       "\t<tr><th scope=row>Perła</th><td> 0.2824389  </td><td>-0.413772837</td><td> 0.322163023</td><td> 0.41417585 </td><td> 1.065566287</td></tr>\n",
       "\t<tr><th scope=row>Specjal</th><td> 0.2824389  </td><td>-0.726054224</td><td>-2.741026373</td><td>-3.02221766 </td><td>-0.988131770</td></tr>\n",
       "\t<tr><th scope=row>Żubr</th><td> 0.2824389  </td><td>-0.523071322</td><td> 0.216535802</td><td> 0.59503867 </td><td>-0.314788145</td></tr>\n",
       "\t<tr><th scope=row>Redds</th><td>-1.7841870  </td><td> 1.631670244</td><td> 0.005281361</td><td> 0.05245022 </td><td>-0.062284285</td></tr>\n",
       "\t<tr><th scope=row>Carlsberg</th><td> 0.2824389  </td><td> 0.538685392</td><td> 0.955926346</td><td> 0.70355636 </td><td>-0.331621736</td></tr>\n",
       "\t<tr><th scope=row>Somersby</th><td>-1.7841870  </td><td> 1.897109423</td><td>-0.205973080</td><td>-0.30927542 </td><td>-0.028617104</td></tr>\n",
       "\t<tr><th scope=row>Tatra_Pils</th><td> 0.2824389  </td><td>-1.288160719</td><td> 0.110908582</td><td>-1.35827975 </td><td>-0.786128683</td></tr>\n",
       "\t<tr><th scope=row>Harnas</th><td> 0.2824389  </td><td>-1.303774788</td><td> 0.533417464</td><td>-0.05606747 </td><td> 0.005050077</td></tr>\n",
       "\t<tr><th scope=row>Tatra_mocne</th><td> 1.6601895  </td><td>-0.320088421</td><td>-0.628481962</td><td>-0.85186387 </td><td>-1.122800495</td></tr>\n",
       "\t<tr><th scope=row>Okocim_mocne</th><td> 1.7979645  </td><td>-0.179561797</td><td>-0.205973080</td><td> 0.34183072 </td><td>-0.432623279</td></tr>\n",
       "\t<tr><th scope=row>Debowe_mocne</th><td> 1.6601895  </td><td> 0.101491451</td><td>-0.522854742</td><td>-0.85186387 </td><td>-1.139634086</td></tr>\n",
       "</tbody>\n",
       "</table>\n"
      ],
      "text/latex": [
       "\\begin{tabular}{r|lllll}\n",
       "  & zawartosc.alk & cena & dostepnosc & znajomosc & preferencje\\\\\n",
       "\\hline\n",
       "\tZywiec & -0.2686614   &  0.117105520 &  1.061553567 &  0.99293686  &  2.748925351\\\\\n",
       "\tDesperados &  0.2824389   &  2.068864185 &  0.955926346 &  0.34183072  & -0.213786601\\\\\n",
       "\tKasztelan & -0.1308863   & -0.554299461 &  0.850299125 &  0.59503867  &  1.940913000\\\\\n",
       "\tWojak & -1.0953117   & -1.132020026 & -2.001635829 & -0.96038156  & -1.072299723\\\\\n",
       "\tTyskie & -0.2686614   & -0.460615045 &  1.061553567 &  0.92059174  &  0.779395246\\\\\n",
       "\tHeineken & -1.0953117   &  1.272546650 &  0.427790243 &  0.81207405  &  0.207053165\\\\\n",
       "\tWarka & -0.1308863   & -0.366930629 & -0.417227521 &  0.88441917  &  0.072384440\\\\\n",
       "\tŁomża &  0.2824389   & -0.351316560 & -0.628481962 & -0.05606747  & -0.365288917\\\\\n",
       "\tLech & -0.8197616   & -0.007807035 &  0.850299125 &  0.81207405  &  0.038717258\\\\\n",
       "\tPerła &  0.2824389   & -0.413772837 &  0.322163023 &  0.41417585  &  1.065566287\\\\\n",
       "\tSpecjal &  0.2824389   & -0.726054224 & -2.741026373 & -3.02221766  & -0.988131770\\\\\n",
       "\tŻubr &  0.2824389   & -0.523071322 &  0.216535802 &  0.59503867  & -0.314788145\\\\\n",
       "\tRedds & -1.7841870   &  1.631670244 &  0.005281361 &  0.05245022  & -0.062284285\\\\\n",
       "\tCarlsberg &  0.2824389   &  0.538685392 &  0.955926346 &  0.70355636  & -0.331621736\\\\\n",
       "\tSomersby & -1.7841870   &  1.897109423 & -0.205973080 & -0.30927542  & -0.028617104\\\\\n",
       "\tTatra\\_Pils &  0.2824389   & -1.288160719 &  0.110908582 & -1.35827975  & -0.786128683\\\\\n",
       "\tHarnas &  0.2824389   & -1.303774788 &  0.533417464 & -0.05606747  &  0.005050077\\\\\n",
       "\tTatra\\_mocne &  1.6601895   & -0.320088421 & -0.628481962 & -0.85186387  & -1.122800495\\\\\n",
       "\tOkocim\\_mocne &  1.7979645   & -0.179561797 & -0.205973080 &  0.34183072  & -0.432623279\\\\\n",
       "\tDebowe\\_mocne &  1.6601895   &  0.101491451 & -0.522854742 & -0.85186387  & -1.139634086\\\\\n",
       "\\end{tabular}\n"
      ],
      "text/markdown": [
       "\n",
       "| <!--/--> | zawartosc.alk | cena | dostepnosc | znajomosc | preferencje |\n",
       "|---|---|---|---|---|---|\n",
       "| Zywiec | -0.2686614   |  0.117105520 |  1.061553567 |  0.99293686  |  2.748925351 |\n",
       "| Desperados |  0.2824389   |  2.068864185 |  0.955926346 |  0.34183072  | -0.213786601 |\n",
       "| Kasztelan | -0.1308863   | -0.554299461 |  0.850299125 |  0.59503867  |  1.940913000 |\n",
       "| Wojak | -1.0953117   | -1.132020026 | -2.001635829 | -0.96038156  | -1.072299723 |\n",
       "| Tyskie | -0.2686614   | -0.460615045 |  1.061553567 |  0.92059174  |  0.779395246 |\n",
       "| Heineken | -1.0953117   |  1.272546650 |  0.427790243 |  0.81207405  |  0.207053165 |\n",
       "| Warka | -0.1308863   | -0.366930629 | -0.417227521 |  0.88441917  |  0.072384440 |\n",
       "| Łomża |  0.2824389   | -0.351316560 | -0.628481962 | -0.05606747  | -0.365288917 |\n",
       "| Lech | -0.8197616   | -0.007807035 |  0.850299125 |  0.81207405  |  0.038717258 |\n",
       "| Perła |  0.2824389   | -0.413772837 |  0.322163023 |  0.41417585  |  1.065566287 |\n",
       "| Specjal |  0.2824389   | -0.726054224 | -2.741026373 | -3.02221766  | -0.988131770 |\n",
       "| Żubr |  0.2824389   | -0.523071322 |  0.216535802 |  0.59503867  | -0.314788145 |\n",
       "| Redds | -1.7841870   |  1.631670244 |  0.005281361 |  0.05245022  | -0.062284285 |\n",
       "| Carlsberg |  0.2824389   |  0.538685392 |  0.955926346 |  0.70355636  | -0.331621736 |\n",
       "| Somersby | -1.7841870   |  1.897109423 | -0.205973080 | -0.30927542  | -0.028617104 |\n",
       "| Tatra_Pils |  0.2824389   | -1.288160719 |  0.110908582 | -1.35827975  | -0.786128683 |\n",
       "| Harnas |  0.2824389   | -1.303774788 |  0.533417464 | -0.05606747  |  0.005050077 |\n",
       "| Tatra_mocne |  1.6601895   | -0.320088421 | -0.628481962 | -0.85186387  | -1.122800495 |\n",
       "| Okocim_mocne |  1.7979645   | -0.179561797 | -0.205973080 |  0.34183072  | -0.432623279 |\n",
       "| Debowe_mocne |  1.6601895   |  0.101491451 | -0.522854742 | -0.85186387  | -1.139634086 |\n",
       "\n"
      ],
      "text/plain": [
       "             zawartosc.alk cena         dostepnosc   znajomosc   preferencje \n",
       "Zywiec       -0.2686614     0.117105520  1.061553567  0.99293686  2.748925351\n",
       "Desperados    0.2824389     2.068864185  0.955926346  0.34183072 -0.213786601\n",
       "Kasztelan    -0.1308863    -0.554299461  0.850299125  0.59503867  1.940913000\n",
       "Wojak        -1.0953117    -1.132020026 -2.001635829 -0.96038156 -1.072299723\n",
       "Tyskie       -0.2686614    -0.460615045  1.061553567  0.92059174  0.779395246\n",
       "Heineken     -1.0953117     1.272546650  0.427790243  0.81207405  0.207053165\n",
       "Warka        -0.1308863    -0.366930629 -0.417227521  0.88441917  0.072384440\n",
       "Łomża         0.2824389    -0.351316560 -0.628481962 -0.05606747 -0.365288917\n",
       "Lech         -0.8197616    -0.007807035  0.850299125  0.81207405  0.038717258\n",
       "Perła         0.2824389    -0.413772837  0.322163023  0.41417585  1.065566287\n",
       "Specjal       0.2824389    -0.726054224 -2.741026373 -3.02221766 -0.988131770\n",
       "Żubr          0.2824389    -0.523071322  0.216535802  0.59503867 -0.314788145\n",
       "Redds        -1.7841870     1.631670244  0.005281361  0.05245022 -0.062284285\n",
       "Carlsberg     0.2824389     0.538685392  0.955926346  0.70355636 -0.331621736\n",
       "Somersby     -1.7841870     1.897109423 -0.205973080 -0.30927542 -0.028617104\n",
       "Tatra_Pils    0.2824389    -1.288160719  0.110908582 -1.35827975 -0.786128683\n",
       "Harnas        0.2824389    -1.303774788  0.533417464 -0.05606747  0.005050077\n",
       "Tatra_mocne   1.6601895    -0.320088421 -0.628481962 -0.85186387 -1.122800495\n",
       "Okocim_mocne  1.7979645    -0.179561797 -0.205973080  0.34183072 -0.432623279\n",
       "Debowe_mocne  1.6601895     0.101491451 -0.522854742 -0.85186387 -1.139634086"
      ]
     },
     "metadata": {},
     "output_type": "display_data"
    }
   ],
   "source": [
    "piwo_std <- scale(piwo)\n",
    "piwo_std"
   ]
  },
  {
   "cell_type": "markdown",
   "metadata": {},
   "source": [
    "### czy normalizacja wplywa na ranking\n",
    "### macierz kendala cor(method='kendal')\n"
   ]
  },
  {
   "cell_type": "markdown",
   "metadata": {},
   "source": [
    "### kmeans()\n",
    "###### k - średnich\n",
    "### pam()\n",
    "###### metoda k - medoich\n",
    "### clara()\n",
    "###### dla duzych zbiorow danych\n",
    "\n",
    "\n",
    "argumenty\n",
    "dane +\n",
    "1. Ile grup\n",
    "2. Ile iteracji\n",
    "\n",
    "seed = 1\n"
   ]
  },
  {
   "cell_type": "code",
   "execution_count": 303,
   "metadata": {},
   "outputs": [],
   "source": [
    "k_srednie = pam(piwo_std, 5)"
   ]
  },
  {
   "cell_type": "code",
   "execution_count": 304,
   "metadata": {},
   "outputs": [
    {
     "data": {
      "text/plain": [
       "Medoids:\n",
       "            ID zawartosc.alk       cena   dostepnosc   znajomosc preferencje\n",
       "Kasztelan    3    -0.1308863 -0.5542995  0.850299125  0.59503867  1.94091300\n",
       "Redds       13    -1.7841870  1.6316702  0.005281361  0.05245022 -0.06228429\n",
       "Specjal     11     0.2824389 -0.7260542 -2.741026373 -3.02221766 -0.98813177\n",
       "Żubr        12     0.2824389 -0.5230713  0.216535802  0.59503867 -0.31478814\n",
       "Tatra_mocne 18     1.6601895 -0.3200884 -0.628481962 -0.85186387 -1.12280050\n",
       "Clustering vector:\n",
       "      Zywiec   Desperados    Kasztelan        Wojak       Tyskie     Heineken \n",
       "           1            2            1            3            1            2 \n",
       "       Warka        Łomża         Lech        Perła      Specjal         Żubr \n",
       "           4            4            4            1            3            4 \n",
       "       Redds    Carlsberg     Somersby   Tatra_Pils       Harnas  Tatra_mocne \n",
       "           2            4            2            5            4            5 \n",
       "Okocim_mocne Debowe_mocne \n",
       "           5            5 \n",
       "Objective function:\n",
       "   build     swap \n",
       "0.991552 0.991552 \n",
       "\n",
       "Available components:\n",
       " [1] \"medoids\"    \"id.med\"     \"clustering\" \"objective\"  \"isolation\" \n",
       " [6] \"clusinfo\"   \"silinfo\"    \"diss\"       \"call\"       \"data\"      "
      ]
     },
     "metadata": {},
     "output_type": "display_data"
    }
   ],
   "source": [
    "k_srednie"
   ]
  },
  {
   "cell_type": "code",
   "execution_count": 305,
   "metadata": {},
   "outputs": [
    {
     "name": "stdout",
     "output_type": "stream",
     "text": [
      "List of 10\n",
      " $ medoids   : num [1:5, 1:5] -0.131 -1.784 0.282 0.282 1.66 ...\n",
      "  ..- attr(*, \"dimnames\")=List of 2\n",
      "  .. ..$ : chr [1:5] \"Kasztelan\" \"Redds\" \"Specjal\" \"Żubr\" ...\n",
      "  .. ..$ : chr [1:5] \"zawartosc.alk\" \"cena\" \"dostepnosc\" \"znajomosc\" ...\n",
      " $ id.med    : int [1:5] 3 13 11 12 18\n",
      " $ clustering: Named int [1:20] 1 2 1 3 1 2 4 4 4 1 ...\n",
      "  ..- attr(*, \"names\")= chr [1:20] \"Zywiec\" \"Desperados\" \"Kasztelan\" \"Wojak\" ...\n",
      " $ objective : Named num [1:2] 0.992 0.992\n",
      "  ..- attr(*, \"names\")= chr [1:2] \"build\" \"swap\"\n",
      " $ isolation : Factor w/ 3 levels \"no\",\"L\",\"L*\": 1 1 1 1 1\n",
      "  ..- attr(*, \"names\")= chr [1:5] \"1\" \"2\" \"3\" \"4\" ...\n",
      " $ clusinfo  : num [1:5, 1:5] 4 4 2 6 4 ...\n",
      "  ..- attr(*, \"dimnames\")=List of 2\n",
      "  .. ..$ : NULL\n",
      "  .. ..$ : chr [1:5] \"size\" \"max_diss\" \"av_diss\" \"diameter\" ...\n",
      " $ silinfo   :List of 3\n",
      "  ..$ widths         : num [1:20, 1:3] 1 1 1 1 2 2 2 2 3 3 ...\n",
      "  .. ..- attr(*, \"dimnames\")=List of 2\n",
      "  .. .. ..$ : chr [1:20] \"Kasztelan\" \"Zywiec\" \"Tyskie\" \"Perła\" ...\n",
      "  .. .. ..$ : chr [1:3] \"cluster\" \"neighbor\" \"sil_width\"\n",
      "  ..$ clus.avg.widths: num [1:5] 0.296 0.381 0.24 0.252 0.294\n",
      "  ..$ avg.width      : num 0.294\n",
      " $ diss      : 'dissimilarity' num [1:190] 3.65 1.15 5.48 2.05 2.99 ...\n",
      "  ..- attr(*, \"Size\")= int 20\n",
      "  ..- attr(*, \"Metric\")= chr \"euclidean\"\n",
      "  ..- attr(*, \"Labels\")= chr [1:20] \"Zywiec\" \"Desperados\" \"Kasztelan\" \"Wojak\" ...\n",
      " $ call      : language pam(x = piwo_std, k = 5)\n",
      " $ data      : num [1:20, 1:5] -0.269 0.282 -0.131 -1.095 -0.269 ...\n",
      "  ..- attr(*, \"scaled:center\")= Named num [1:5] 5.79 2.83 1.4 1.68 1.02\n",
      "  .. ..- attr(*, \"names\")= chr [1:5] \"zawartosc.alk\" \"cena\" \"dostepnosc\" \"znajomosc\" ...\n",
      "  ..- attr(*, \"scaled:scale\")= Named num [1:5] 0.726 0.64 0.473 0.276 0.594\n",
      "  .. ..- attr(*, \"names\")= chr [1:5] \"zawartosc.alk\" \"cena\" \"dostepnosc\" \"znajomosc\" ...\n",
      "  ..- attr(*, \"dimnames\")=List of 2\n",
      "  .. ..$ : chr [1:20] \"Zywiec\" \"Desperados\" \"Kasztelan\" \"Wojak\" ...\n",
      "  .. ..$ : chr [1:5] \"zawartosc.alk\" \"cena\" \"dostepnosc\" \"znajomosc\" ...\n",
      " - attr(*, \"class\")= chr [1:2] \"pam\" \"partition\"\n"
     ]
    }
   ],
   "source": [
    "str(k_srednie)"
   ]
  },
  {
   "cell_type": "code",
   "execution_count": 306,
   "metadata": {},
   "outputs": [
    {
     "data": {
      "text/html": [
       "<dl class=dl-horizontal>\n",
       "\t<dt>Zywiec</dt>\n",
       "\t\t<dd>1</dd>\n",
       "\t<dt>Desperados</dt>\n",
       "\t\t<dd>2</dd>\n",
       "\t<dt>Kasztelan</dt>\n",
       "\t\t<dd>1</dd>\n",
       "\t<dt>Wojak</dt>\n",
       "\t\t<dd>3</dd>\n",
       "\t<dt>Tyskie</dt>\n",
       "\t\t<dd>1</dd>\n",
       "\t<dt>Heineken</dt>\n",
       "\t\t<dd>2</dd>\n",
       "\t<dt>Warka</dt>\n",
       "\t\t<dd>4</dd>\n",
       "\t<dt>Łomża</dt>\n",
       "\t\t<dd>4</dd>\n",
       "\t<dt>Lech</dt>\n",
       "\t\t<dd>4</dd>\n",
       "\t<dt>Perła</dt>\n",
       "\t\t<dd>1</dd>\n",
       "\t<dt>Specjal</dt>\n",
       "\t\t<dd>3</dd>\n",
       "\t<dt>Żubr</dt>\n",
       "\t\t<dd>4</dd>\n",
       "\t<dt>Redds</dt>\n",
       "\t\t<dd>2</dd>\n",
       "\t<dt>Carlsberg</dt>\n",
       "\t\t<dd>4</dd>\n",
       "\t<dt>Somersby</dt>\n",
       "\t\t<dd>2</dd>\n",
       "\t<dt>Tatra_Pils</dt>\n",
       "\t\t<dd>5</dd>\n",
       "\t<dt>Harnas</dt>\n",
       "\t\t<dd>4</dd>\n",
       "\t<dt>Tatra_mocne</dt>\n",
       "\t\t<dd>5</dd>\n",
       "\t<dt>Okocim_mocne</dt>\n",
       "\t\t<dd>5</dd>\n",
       "\t<dt>Debowe_mocne</dt>\n",
       "\t\t<dd>5</dd>\n",
       "</dl>\n"
      ],
      "text/latex": [
       "\\begin{description*}\n",
       "\\item[Zywiec] 1\n",
       "\\item[Desperados] 2\n",
       "\\item[Kasztelan] 1\n",
       "\\item[Wojak] 3\n",
       "\\item[Tyskie] 1\n",
       "\\item[Heineken] 2\n",
       "\\item[Warka] 4\n",
       "\\item[Łomża] 4\n",
       "\\item[Lech] 4\n",
       "\\item[Perła] 1\n",
       "\\item[Specjal] 3\n",
       "\\item[Żubr] 4\n",
       "\\item[Redds] 2\n",
       "\\item[Carlsberg] 4\n",
       "\\item[Somersby] 2\n",
       "\\item[Tatra\\textbackslash{}\\_Pils] 5\n",
       "\\item[Harnas] 4\n",
       "\\item[Tatra\\textbackslash{}\\_mocne] 5\n",
       "\\item[Okocim\\textbackslash{}\\_mocne] 5\n",
       "\\item[Debowe\\textbackslash{}\\_mocne] 5\n",
       "\\end{description*}\n"
      ],
      "text/markdown": [
       "Zywiec\n",
       ":   1Desperados\n",
       ":   2Kasztelan\n",
       ":   1Wojak\n",
       ":   3Tyskie\n",
       ":   1Heineken\n",
       ":   2Warka\n",
       ":   4Łomża\n",
       ":   4Lech\n",
       ":   4Perła\n",
       ":   1Specjal\n",
       ":   3Żubr\n",
       ":   4Redds\n",
       ":   2Carlsberg\n",
       ":   4Somersby\n",
       ":   2Tatra_Pils\n",
       ":   5Harnas\n",
       ":   4Tatra_mocne\n",
       ":   5Okocim_mocne\n",
       ":   5Debowe_mocne\n",
       ":   5\n",
       "\n"
      ],
      "text/plain": [
       "      Zywiec   Desperados    Kasztelan        Wojak       Tyskie     Heineken \n",
       "           1            2            1            3            1            2 \n",
       "       Warka        Łomża         Lech        Perła      Specjal         Żubr \n",
       "           4            4            4            1            3            4 \n",
       "       Redds    Carlsberg     Somersby   Tatra_Pils       Harnas  Tatra_mocne \n",
       "           2            4            2            5            4            5 \n",
       "Okocim_mocne Debowe_mocne \n",
       "           5            5 "
      ]
     },
     "metadata": {},
     "output_type": "display_data"
    }
   ],
   "source": [
    "k_srednie$cluster"
   ]
  },
  {
   "cell_type": "code",
   "execution_count": 307,
   "metadata": {},
   "outputs": [],
   "source": [
    "piwo$gr4 <- k_srednie$cluster "
   ]
  },
  {
   "cell_type": "code",
   "execution_count": 308,
   "metadata": {},
   "outputs": [
    {
     "data": {
      "text/html": [
       "<table>\n",
       "<thead><tr><th></th><th scope=col>zawartosc.alk</th><th scope=col>cena</th><th scope=col>dostepnosc</th><th scope=col>znajomosc</th><th scope=col>preferencje</th><th scope=col>gr4</th></tr></thead>\n",
       "<tbody>\n",
       "\t<tr><th scope=row>Zywiec</th><td>5.6 </td><td>2.90</td><td>1.90</td><td>1.95</td><td>2.65</td><td>1   </td></tr>\n",
       "\t<tr><th scope=row>Desperados</th><td>6.0 </td><td>4.15</td><td>1.85</td><td>1.77</td><td>0.89</td><td>2   </td></tr>\n",
       "\t<tr><th scope=row>Kasztelan</th><td>5.7 </td><td>2.47</td><td>1.80</td><td>1.84</td><td>2.17</td><td>1   </td></tr>\n",
       "\t<tr><th scope=row>Wojak</th><td>5.0 </td><td>2.10</td><td>0.45</td><td>1.41</td><td>0.38</td><td>3   </td></tr>\n",
       "\t<tr><th scope=row>Tyskie</th><td>5.6 </td><td>2.53</td><td>1.90</td><td>1.93</td><td>1.48</td><td>1   </td></tr>\n",
       "\t<tr><th scope=row>Heineken</th><td>5.0 </td><td>3.64</td><td>1.60</td><td>1.90</td><td>1.14</td><td>2   </td></tr>\n",
       "\t<tr><th scope=row>Warka</th><td>5.7 </td><td>2.59</td><td>1.20</td><td>1.92</td><td>1.06</td><td>4   </td></tr>\n",
       "\t<tr><th scope=row>Łomża</th><td>6.0 </td><td>2.60</td><td>1.10</td><td>1.66</td><td>0.80</td><td>4   </td></tr>\n",
       "\t<tr><th scope=row>Lech</th><td>5.2 </td><td>2.82</td><td>1.80</td><td>1.90</td><td>1.04</td><td>4   </td></tr>\n",
       "\t<tr><th scope=row>Perła</th><td>6.0 </td><td>2.56</td><td>1.55</td><td>1.79</td><td>1.65</td><td>1   </td></tr>\n",
       "\t<tr><th scope=row>Specjal</th><td>6.0 </td><td>2.36</td><td>0.10</td><td>0.84</td><td>0.43</td><td>3   </td></tr>\n",
       "\t<tr><th scope=row>Żubr</th><td>6.0 </td><td>2.49</td><td>1.50</td><td>1.84</td><td>0.83</td><td>4   </td></tr>\n",
       "\t<tr><th scope=row>Redds</th><td>4.5 </td><td>3.87</td><td>1.40</td><td>1.69</td><td>0.98</td><td>2   </td></tr>\n",
       "\t<tr><th scope=row>Carlsberg</th><td>6.0 </td><td>3.17</td><td>1.85</td><td>1.87</td><td>0.82</td><td>4   </td></tr>\n",
       "\t<tr><th scope=row>Somersby</th><td>4.5 </td><td>4.04</td><td>1.30</td><td>1.59</td><td>1.00</td><td>2   </td></tr>\n",
       "\t<tr><th scope=row>Tatra_Pils</th><td>6.0 </td><td>2.00</td><td>1.45</td><td>1.30</td><td>0.55</td><td>5   </td></tr>\n",
       "\t<tr><th scope=row>Harnas</th><td>6.0 </td><td>1.99</td><td>1.65</td><td>1.66</td><td>1.02</td><td>4   </td></tr>\n",
       "\t<tr><th scope=row>Tatra_mocne</th><td>7.0 </td><td>2.62</td><td>1.10</td><td>1.44</td><td>0.35</td><td>5   </td></tr>\n",
       "\t<tr><th scope=row>Okocim_mocne</th><td>7.1 </td><td>2.71</td><td>1.30</td><td>1.77</td><td>0.76</td><td>5   </td></tr>\n",
       "\t<tr><th scope=row>Debowe_mocne</th><td>7.0 </td><td>2.89</td><td>1.15</td><td>1.44</td><td>0.34</td><td>5   </td></tr>\n",
       "</tbody>\n",
       "</table>\n"
      ],
      "text/latex": [
       "\\begin{tabular}{r|llllll}\n",
       "  & zawartosc.alk & cena & dostepnosc & znajomosc & preferencje & gr4\\\\\n",
       "\\hline\n",
       "\tZywiec & 5.6  & 2.90 & 1.90 & 1.95 & 2.65 & 1   \\\\\n",
       "\tDesperados & 6.0  & 4.15 & 1.85 & 1.77 & 0.89 & 2   \\\\\n",
       "\tKasztelan & 5.7  & 2.47 & 1.80 & 1.84 & 2.17 & 1   \\\\\n",
       "\tWojak & 5.0  & 2.10 & 0.45 & 1.41 & 0.38 & 3   \\\\\n",
       "\tTyskie & 5.6  & 2.53 & 1.90 & 1.93 & 1.48 & 1   \\\\\n",
       "\tHeineken & 5.0  & 3.64 & 1.60 & 1.90 & 1.14 & 2   \\\\\n",
       "\tWarka & 5.7  & 2.59 & 1.20 & 1.92 & 1.06 & 4   \\\\\n",
       "\tŁomża & 6.0  & 2.60 & 1.10 & 1.66 & 0.80 & 4   \\\\\n",
       "\tLech & 5.2  & 2.82 & 1.80 & 1.90 & 1.04 & 4   \\\\\n",
       "\tPerła & 6.0  & 2.56 & 1.55 & 1.79 & 1.65 & 1   \\\\\n",
       "\tSpecjal & 6.0  & 2.36 & 0.10 & 0.84 & 0.43 & 3   \\\\\n",
       "\tŻubr & 6.0  & 2.49 & 1.50 & 1.84 & 0.83 & 4   \\\\\n",
       "\tRedds & 4.5  & 3.87 & 1.40 & 1.69 & 0.98 & 2   \\\\\n",
       "\tCarlsberg & 6.0  & 3.17 & 1.85 & 1.87 & 0.82 & 4   \\\\\n",
       "\tSomersby & 4.5  & 4.04 & 1.30 & 1.59 & 1.00 & 2   \\\\\n",
       "\tTatra\\_Pils & 6.0  & 2.00 & 1.45 & 1.30 & 0.55 & 5   \\\\\n",
       "\tHarnas & 6.0  & 1.99 & 1.65 & 1.66 & 1.02 & 4   \\\\\n",
       "\tTatra\\_mocne & 7.0  & 2.62 & 1.10 & 1.44 & 0.35 & 5   \\\\\n",
       "\tOkocim\\_mocne & 7.1  & 2.71 & 1.30 & 1.77 & 0.76 & 5   \\\\\n",
       "\tDebowe\\_mocne & 7.0  & 2.89 & 1.15 & 1.44 & 0.34 & 5   \\\\\n",
       "\\end{tabular}\n"
      ],
      "text/markdown": [
       "\n",
       "| <!--/--> | zawartosc.alk | cena | dostepnosc | znajomosc | preferencje | gr4 |\n",
       "|---|---|---|---|---|---|---|\n",
       "| Zywiec | 5.6  | 2.90 | 1.90 | 1.95 | 2.65 | 1    |\n",
       "| Desperados | 6.0  | 4.15 | 1.85 | 1.77 | 0.89 | 2    |\n",
       "| Kasztelan | 5.7  | 2.47 | 1.80 | 1.84 | 2.17 | 1    |\n",
       "| Wojak | 5.0  | 2.10 | 0.45 | 1.41 | 0.38 | 3    |\n",
       "| Tyskie | 5.6  | 2.53 | 1.90 | 1.93 | 1.48 | 1    |\n",
       "| Heineken | 5.0  | 3.64 | 1.60 | 1.90 | 1.14 | 2    |\n",
       "| Warka | 5.7  | 2.59 | 1.20 | 1.92 | 1.06 | 4    |\n",
       "| Łomża | 6.0  | 2.60 | 1.10 | 1.66 | 0.80 | 4    |\n",
       "| Lech | 5.2  | 2.82 | 1.80 | 1.90 | 1.04 | 4    |\n",
       "| Perła | 6.0  | 2.56 | 1.55 | 1.79 | 1.65 | 1    |\n",
       "| Specjal | 6.0  | 2.36 | 0.10 | 0.84 | 0.43 | 3    |\n",
       "| Żubr | 6.0  | 2.49 | 1.50 | 1.84 | 0.83 | 4    |\n",
       "| Redds | 4.5  | 3.87 | 1.40 | 1.69 | 0.98 | 2    |\n",
       "| Carlsberg | 6.0  | 3.17 | 1.85 | 1.87 | 0.82 | 4    |\n",
       "| Somersby | 4.5  | 4.04 | 1.30 | 1.59 | 1.00 | 2    |\n",
       "| Tatra_Pils | 6.0  | 2.00 | 1.45 | 1.30 | 0.55 | 5    |\n",
       "| Harnas | 6.0  | 1.99 | 1.65 | 1.66 | 1.02 | 4    |\n",
       "| Tatra_mocne | 7.0  | 2.62 | 1.10 | 1.44 | 0.35 | 5    |\n",
       "| Okocim_mocne | 7.1  | 2.71 | 1.30 | 1.77 | 0.76 | 5    |\n",
       "| Debowe_mocne | 7.0  | 2.89 | 1.15 | 1.44 | 0.34 | 5    |\n",
       "\n"
      ],
      "text/plain": [
       "             zawartosc.alk cena dostepnosc znajomosc preferencje gr4\n",
       "Zywiec       5.6           2.90 1.90       1.95      2.65        1  \n",
       "Desperados   6.0           4.15 1.85       1.77      0.89        2  \n",
       "Kasztelan    5.7           2.47 1.80       1.84      2.17        1  \n",
       "Wojak        5.0           2.10 0.45       1.41      0.38        3  \n",
       "Tyskie       5.6           2.53 1.90       1.93      1.48        1  \n",
       "Heineken     5.0           3.64 1.60       1.90      1.14        2  \n",
       "Warka        5.7           2.59 1.20       1.92      1.06        4  \n",
       "Łomża        6.0           2.60 1.10       1.66      0.80        4  \n",
       "Lech         5.2           2.82 1.80       1.90      1.04        4  \n",
       "Perła        6.0           2.56 1.55       1.79      1.65        1  \n",
       "Specjal      6.0           2.36 0.10       0.84      0.43        3  \n",
       "Żubr         6.0           2.49 1.50       1.84      0.83        4  \n",
       "Redds        4.5           3.87 1.40       1.69      0.98        2  \n",
       "Carlsberg    6.0           3.17 1.85       1.87      0.82        4  \n",
       "Somersby     4.5           4.04 1.30       1.59      1.00        2  \n",
       "Tatra_Pils   6.0           2.00 1.45       1.30      0.55        5  \n",
       "Harnas       6.0           1.99 1.65       1.66      1.02        4  \n",
       "Tatra_mocne  7.0           2.62 1.10       1.44      0.35        5  \n",
       "Okocim_mocne 7.1           2.71 1.30       1.77      0.76        5  \n",
       "Debowe_mocne 7.0           2.89 1.15       1.44      0.34        5  "
      ]
     },
     "metadata": {},
     "output_type": "display_data"
    }
   ],
   "source": [
    "piwo"
   ]
  },
  {
   "cell_type": "markdown",
   "metadata": {},
   "source": [
    "# Profilowanie klas\n",
    "\n",
    "### Interpretacja wynikow\n"
   ]
  },
  {
   "cell_type": "markdown",
   "metadata": {},
   "source": [
    "### tapply(dane, co_Dzieli, funkcja)\n",
    "\n"
   ]
  },
  {
   "cell_type": "code",
   "execution_count": 309,
   "metadata": {},
   "outputs": [
    {
     "data": {
      "text/html": [
       "<table>\n",
       "<thead><tr><th></th><th scope=col>I</th><th scope=col>II</th><th scope=col>III</th><th scope=col>IV</th><th scope=col>V</th></tr></thead>\n",
       "<tbody>\n",
       "\t<tr><th scope=row>zawartosc.alk</th><td>5.7250   </td><td>5.0000   </td><td>5.500    </td><td>5.8166667</td><td>6.7750   </td></tr>\n",
       "\t<tr><th scope=row>cena</th><td>2.6150   </td><td>3.9250   </td><td>2.230    </td><td>2.6100000</td><td>2.5550   </td></tr>\n",
       "\t<tr><th scope=row>dostepnosc</th><td>1.7875   </td><td>1.5375   </td><td>0.275    </td><td>1.5166667</td><td>1.2500   </td></tr>\n",
       "\t<tr><th scope=row>znajomosc</th><td>1.8775   </td><td>1.7375   </td><td>1.125    </td><td>1.8083333</td><td>1.4875   </td></tr>\n",
       "\t<tr><th scope=row>preferencje</th><td>1.9875   </td><td>1.0025   </td><td>0.405    </td><td>0.9283333</td><td>0.5000   </td></tr>\n",
       "</tbody>\n",
       "</table>\n"
      ],
      "text/latex": [
       "\\begin{tabular}{r|lllll}\n",
       "  & I & II & III & IV & V\\\\\n",
       "\\hline\n",
       "\tzawartosc.alk & 5.7250    & 5.0000    & 5.500     & 5.8166667 & 6.7750   \\\\\n",
       "\tcena & 2.6150    & 3.9250    & 2.230     & 2.6100000 & 2.5550   \\\\\n",
       "\tdostepnosc & 1.7875    & 1.5375    & 0.275     & 1.5166667 & 1.2500   \\\\\n",
       "\tznajomosc & 1.8775    & 1.7375    & 1.125     & 1.8083333 & 1.4875   \\\\\n",
       "\tpreferencje & 1.9875    & 1.0025    & 0.405     & 0.9283333 & 0.5000   \\\\\n",
       "\\end{tabular}\n"
      ],
      "text/markdown": [
       "\n",
       "| <!--/--> | I | II | III | IV | V |\n",
       "|---|---|---|---|---|---|\n",
       "| zawartosc.alk | 5.7250    | 5.0000    | 5.500     | 5.8166667 | 6.7750    |\n",
       "| cena | 2.6150    | 3.9250    | 2.230     | 2.6100000 | 2.5550    |\n",
       "| dostepnosc | 1.7875    | 1.5375    | 0.275     | 1.5166667 | 1.2500    |\n",
       "| znajomosc | 1.8775    | 1.7375    | 1.125     | 1.8083333 | 1.4875    |\n",
       "| preferencje | 1.9875    | 1.0025    | 0.405     | 0.9283333 | 0.5000    |\n",
       "\n"
      ],
      "text/plain": [
       "              I      II     III   IV        V     \n",
       "zawartosc.alk 5.7250 5.0000 5.500 5.8166667 6.7750\n",
       "cena          2.6150 3.9250 2.230 2.6100000 2.5550\n",
       "dostepnosc    1.7875 1.5375 0.275 1.5166667 1.2500\n",
       "znajomosc     1.8775 1.7375 1.125 1.8083333 1.4875\n",
       "preferencje   1.9875 1.0025 0.405 0.9283333 0.5000"
      ]
     },
     "metadata": {},
     "output_type": "display_data"
    },
    {
     "data": {
      "text/html": [
       "<table>\n",
       "<thead><tr><th></th><th scope=col>I</th><th scope=col>II</th><th scope=col>III</th><th scope=col>IV</th><th scope=col>V</th></tr></thead>\n",
       "<tbody>\n",
       "\t<tr><th scope=row>zawartosc.alk</th><td>0.18929694</td><td>0.7071068 </td><td>0.70710678</td><td>0.3250641 </td><td>0.5188127 </td></tr>\n",
       "\t<tr><th scope=row>cena</th><td>0.19364917</td><td>0.2221861 </td><td>0.18384776</td><td>0.3891015 </td><td>0.3866523 </td></tr>\n",
       "\t<tr><th scope=row>dostepnosc</th><td>0.16520190</td><td>0.2428134 </td><td>0.24748737</td><td>0.3109126 </td><td>0.1581139 </td></tr>\n",
       "\t<tr><th scope=row>znajomosc</th><td>0.07544314</td><td>0.1309898 </td><td>0.40305087</td><td>0.1180537 </td><td>0.1995620 </td></tr>\n",
       "\t<tr><th scope=row>preferencje</th><td>0.53030652</td><td>0.1034005 </td><td>0.03535534</td><td>0.1233559 </td><td>0.1984943 </td></tr>\n",
       "</tbody>\n",
       "</table>\n"
      ],
      "text/latex": [
       "\\begin{tabular}{r|lllll}\n",
       "  & I & II & III & IV & V\\\\\n",
       "\\hline\n",
       "\tzawartosc.alk & 0.18929694 & 0.7071068  & 0.70710678 & 0.3250641  & 0.5188127 \\\\\n",
       "\tcena & 0.19364917 & 0.2221861  & 0.18384776 & 0.3891015  & 0.3866523 \\\\\n",
       "\tdostepnosc & 0.16520190 & 0.2428134  & 0.24748737 & 0.3109126  & 0.1581139 \\\\\n",
       "\tznajomosc & 0.07544314 & 0.1309898  & 0.40305087 & 0.1180537  & 0.1995620 \\\\\n",
       "\tpreferencje & 0.53030652 & 0.1034005  & 0.03535534 & 0.1233559  & 0.1984943 \\\\\n",
       "\\end{tabular}\n"
      ],
      "text/markdown": [
       "\n",
       "| <!--/--> | I | II | III | IV | V |\n",
       "|---|---|---|---|---|---|\n",
       "| zawartosc.alk | 0.18929694 | 0.7071068  | 0.70710678 | 0.3250641  | 0.5188127  |\n",
       "| cena | 0.19364917 | 0.2221861  | 0.18384776 | 0.3891015  | 0.3866523  |\n",
       "| dostepnosc | 0.16520190 | 0.2428134  | 0.24748737 | 0.3109126  | 0.1581139  |\n",
       "| znajomosc | 0.07544314 | 0.1309898  | 0.40305087 | 0.1180537  | 0.1995620  |\n",
       "| preferencje | 0.53030652 | 0.1034005  | 0.03535534 | 0.1233559  | 0.1984943  |\n",
       "\n"
      ],
      "text/plain": [
       "              I          II        III        IV        V        \n",
       "zawartosc.alk 0.18929694 0.7071068 0.70710678 0.3250641 0.5188127\n",
       "cena          0.19364917 0.2221861 0.18384776 0.3891015 0.3866523\n",
       "dostepnosc    0.16520190 0.2428134 0.24748737 0.3109126 0.1581139\n",
       "znajomosc     0.07544314 0.1309898 0.40305087 0.1180537 0.1995620\n",
       "preferencje   0.53030652 0.1034005 0.03535534 0.1233559 0.1984943"
      ]
     },
     "metadata": {},
     "output_type": "display_data"
    }
   ],
   "source": [
    "odchylenia <- matrix(NA, 5, 5)\n",
    "colnames(odchylenia) <- c(\"I\", \"II\", \"III\", \"IV\", \"V\")\n",
    "rownames(odchylenia) <- colnames(piwo[,(1:5)])\n",
    "\n",
    "srednie <- matrix(NA, 5, 5)\n",
    "colnames(srednie) <- c(\"I\", \"II\", \"III\", \"IV\", \"V\")\n",
    "rownames(srednie) <- colnames(piwo[,(1:5)])\n",
    "\n",
    "for (i in 1:5) {\n",
    "    srednie[i,] <- tapply(piwo[,i], piwo[,6], mean)\n",
    "    odchylenia[i,] <- tapply(piwo[,i], piwo[,6], sd)\n",
    "}\n",
    "\n",
    "srednie\n",
    "odchylenia\n"
   ]
  },
  {
   "cell_type": "markdown",
   "metadata": {},
   "source": [
    "### gr = 5\n",
    "duza zawartosc alkoholu\n",
    "obrzydliwe\n"
   ]
  },
  {
   "cell_type": "code",
   "execution_count": 310,
   "metadata": {},
   "outputs": [
    {
     "data": {
      "text/html": [
       "<ol class=list-inline>\n",
       "\t<li>'Tatra_Pils'</li>\n",
       "\t<li>'Tatra_mocne'</li>\n",
       "\t<li>'Okocim_mocne'</li>\n",
       "\t<li>'Debowe_mocne'</li>\n",
       "</ol>\n"
      ],
      "text/latex": [
       "\\begin{enumerate*}\n",
       "\\item 'Tatra\\_Pils'\n",
       "\\item 'Tatra\\_mocne'\n",
       "\\item 'Okocim\\_mocne'\n",
       "\\item 'Debowe\\_mocne'\n",
       "\\end{enumerate*}\n"
      ],
      "text/markdown": [
       "1. 'Tatra_Pils'\n",
       "2. 'Tatra_mocne'\n",
       "3. 'Okocim_mocne'\n",
       "4. 'Debowe_mocne'\n",
       "\n",
       "\n"
      ],
      "text/plain": [
       "[1] \"Tatra_Pils\"   \"Tatra_mocne\"  \"Okocim_mocne\" \"Debowe_mocne\""
      ]
     },
     "metadata": {},
     "output_type": "display_data"
    }
   ],
   "source": [
    "rownames(piwo[piwo$gr4 ==5,])"
   ]
  },
  {
   "cell_type": "markdown",
   "metadata": {},
   "source": [
    "### gr = 4\n",
    "popularne zwykly sikacz"
   ]
  },
  {
   "cell_type": "code",
   "execution_count": 311,
   "metadata": {},
   "outputs": [
    {
     "data": {
      "text/html": [
       "<ol class=list-inline>\n",
       "\t<li>'Warka'</li>\n",
       "\t<li>'Łomża'</li>\n",
       "\t<li>'Lech'</li>\n",
       "\t<li>'Żubr'</li>\n",
       "\t<li>'Carlsberg'</li>\n",
       "\t<li>'Harnas'</li>\n",
       "</ol>\n"
      ],
      "text/latex": [
       "\\begin{enumerate*}\n",
       "\\item 'Warka'\n",
       "\\item 'Łomża'\n",
       "\\item 'Lech'\n",
       "\\item 'Żubr'\n",
       "\\item 'Carlsberg'\n",
       "\\item 'Harnas'\n",
       "\\end{enumerate*}\n"
      ],
      "text/markdown": [
       "1. 'Warka'\n",
       "2. 'Łomża'\n",
       "3. 'Lech'\n",
       "4. 'Żubr'\n",
       "5. 'Carlsberg'\n",
       "6. 'Harnas'\n",
       "\n",
       "\n"
      ],
      "text/plain": [
       "[1] \"Warka\"     \"Łomża\"     \"Lech\"      \"Żubr\"      \"Carlsberg\" \"Harnas\"   "
      ]
     },
     "metadata": {},
     "output_type": "display_data"
    }
   ],
   "source": [
    "rownames(piwo[piwo$gr4 ==4,])"
   ]
  },
  {
   "cell_type": "markdown",
   "metadata": {},
   "source": [
    "### gr = 3\n",
    "tanie niedobre"
   ]
  },
  {
   "cell_type": "code",
   "execution_count": 312,
   "metadata": {},
   "outputs": [
    {
     "data": {
      "text/html": [
       "<ol class=list-inline>\n",
       "\t<li>'Wojak'</li>\n",
       "\t<li>'Specjal'</li>\n",
       "</ol>\n"
      ],
      "text/latex": [
       "\\begin{enumerate*}\n",
       "\\item 'Wojak'\n",
       "\\item 'Specjal'\n",
       "\\end{enumerate*}\n"
      ],
      "text/markdown": [
       "1. 'Wojak'\n",
       "2. 'Specjal'\n",
       "\n",
       "\n"
      ],
      "text/plain": [
       "[1] \"Wojak\"   \"Specjal\""
      ]
     },
     "metadata": {},
     "output_type": "display_data"
    }
   ],
   "source": [
    "rownames(piwo[piwo$gr4 ==3,])"
   ]
  },
  {
   "cell_type": "markdown",
   "metadata": {},
   "source": [
    "### gr = 2\n",
    "drogie luksusowe"
   ]
  },
  {
   "cell_type": "code",
   "execution_count": 313,
   "metadata": {},
   "outputs": [
    {
     "data": {
      "text/html": [
       "<ol class=list-inline>\n",
       "\t<li>'Desperados'</li>\n",
       "\t<li>'Heineken'</li>\n",
       "\t<li>'Redds'</li>\n",
       "\t<li>'Somersby'</li>\n",
       "</ol>\n"
      ],
      "text/latex": [
       "\\begin{enumerate*}\n",
       "\\item 'Desperados'\n",
       "\\item 'Heineken'\n",
       "\\item 'Redds'\n",
       "\\item 'Somersby'\n",
       "\\end{enumerate*}\n"
      ],
      "text/markdown": [
       "1. 'Desperados'\n",
       "2. 'Heineken'\n",
       "3. 'Redds'\n",
       "4. 'Somersby'\n",
       "\n",
       "\n"
      ],
      "text/plain": [
       "[1] \"Desperados\" \"Heineken\"   \"Redds\"      \"Somersby\"  "
      ]
     },
     "metadata": {},
     "output_type": "display_data"
    }
   ],
   "source": [
    "rownames(piwo[piwo$gr4 ==2,])"
   ]
  },
  {
   "cell_type": "markdown",
   "metadata": {},
   "source": [
    "### gr = 1\n"
   ]
  },
  {
   "cell_type": "code",
   "execution_count": 314,
   "metadata": {},
   "outputs": [
    {
     "data": {
      "text/html": [
       "<ol class=list-inline>\n",
       "\t<li>'Zywiec'</li>\n",
       "\t<li>'Kasztelan'</li>\n",
       "\t<li>'Tyskie'</li>\n",
       "\t<li>'Perła'</li>\n",
       "</ol>\n"
      ],
      "text/latex": [
       "\\begin{enumerate*}\n",
       "\\item 'Zywiec'\n",
       "\\item 'Kasztelan'\n",
       "\\item 'Tyskie'\n",
       "\\item 'Perła'\n",
       "\\end{enumerate*}\n"
      ],
      "text/markdown": [
       "1. 'Zywiec'\n",
       "2. 'Kasztelan'\n",
       "3. 'Tyskie'\n",
       "4. 'Perła'\n",
       "\n",
       "\n"
      ],
      "text/plain": [
       "[1] \"Zywiec\"    \"Kasztelan\" \"Tyskie\"    \"Perła\"    "
      ]
     },
     "metadata": {},
     "output_type": "display_data"
    }
   ],
   "source": [
    "rownames(piwo[piwo$gr4 ==1,])"
   ]
  },
  {
   "cell_type": "markdown",
   "metadata": {},
   "source": [
    "### Na ile grup podzielic?\n",
    "\n",
    "Nie wiadomo\n",
    "\n",
    "uzywac indeksow, jeden taki sam\n",
    "\n",
    "kazdy indeks inne wyniki"
   ]
  },
  {
   "cell_type": "code",
   "execution_count": null,
   "metadata": {},
   "outputs": [],
   "source": []
  }
 ],
 "metadata": {
  "kernelspec": {
   "display_name": "R",
   "language": "R",
   "name": "ir"
  },
  "language_info": {
   "codemirror_mode": "r",
   "file_extension": ".r",
   "mimetype": "text/x-r-source",
   "name": "R",
   "pygments_lexer": "r",
   "version": "3.6.1"
  }
 },
 "nbformat": 4,
 "nbformat_minor": 2
}
